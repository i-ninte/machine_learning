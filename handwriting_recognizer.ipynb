{
  "nbformat": 4,
  "nbformat_minor": 0,
  "metadata": {
    "colab": {
      "provenance": [],
      "gpuType": "T4",
      "authorship_tag": "ABX9TyOUzfgwRZirjQH8cp3s3Ez2",
      "include_colab_link": true
    },
    "kernelspec": {
      "name": "python3",
      "display_name": "Python 3"
    },
    "language_info": {
      "name": "python"
    },
    "accelerator": "GPU"
  },
  "cells": [
    {
      "cell_type": "markdown",
      "metadata": {
        "id": "view-in-github",
        "colab_type": "text"
      },
      "source": [
        "<a href=\"https://colab.research.google.com/github/i-ninte/machine_learning/blob/main/handwriting_recognizer.ipynb\" target=\"_parent\"><img src=\"https://colab.research.google.com/assets/colab-badge.svg\" alt=\"Open In Colab\"/></a>"
      ]
    },
    {
      "cell_type": "code",
      "source": [
        "!pip install --upgrade pip\n"
      ],
      "metadata": {
        "colab": {
          "base_uri": "https://localhost:8080/"
        },
        "id": "56uvZ0RgP6H7",
        "outputId": "43212e21-96cb-4363-f9b1-487f0cc21948"
      },
      "execution_count": 2,
      "outputs": [
        {
          "output_type": "stream",
          "name": "stdout",
          "text": [
            "Requirement already satisfied: pip in /usr/local/lib/python3.10/dist-packages (23.1.2)\n",
            "Collecting pip\n",
            "  Downloading pip-23.3-py3-none-any.whl (2.1 MB)\n",
            "\u001b[2K     \u001b[90m━━━━━━━━━━━━━━━━━━━━━━━━━━━━━━━━━━━━━━━━\u001b[0m \u001b[32m2.1/2.1 MB\u001b[0m \u001b[31m24.7 MB/s\u001b[0m eta \u001b[36m0:00:00\u001b[0m\n",
            "\u001b[?25hInstalling collected packages: pip\n",
            "  Attempting uninstall: pip\n",
            "    Found existing installation: pip 23.1.2\n",
            "    Uninstalling pip-23.1.2:\n",
            "      Successfully uninstalled pip-23.1.2\n",
            "Successfully installed pip-23.3\n"
          ]
        }
      ]
    },
    {
      "cell_type": "code",
      "source": [
        "!apt update\n",
        "!apt upgrade\n"
      ],
      "metadata": {
        "colab": {
          "base_uri": "https://localhost:8080/"
        },
        "id": "-j6QHNlKQCM4",
        "outputId": "54957243-d465-49fb-eaf7-3fd2f1e2f5a3"
      },
      "execution_count": 3,
      "outputs": [
        {
          "output_type": "stream",
          "name": "stdout",
          "text": [
            "\u001b[33m\r0% [Working]\u001b[0m\r            \rGet:1 https://cloud.r-project.org/bin/linux/ubuntu jammy-cran40/ InRelease [3,626 B]\n",
            "\u001b[33m\r0% [Connecting to archive.ubuntu.com] [Connecting to security.ubuntu.com] [1 InRelease 3,626 B/3,626\u001b[0m\u001b[33m\r0% [Connecting to archive.ubuntu.com] [Connecting to security.ubuntu.com] [Connecting to ppa.launchp\u001b[0m\r                                                                                                    \rHit:2 https://developer.download.nvidia.com/compute/cuda/repos/ubuntu2204/x86_64  InRelease\n",
            "\u001b[33m\r0% [Connecting to archive.ubuntu.com (91.189.91.83)] [Connecting to security.ubuntu.com (91.189.91.8\u001b[0m\r                                                                                                    \rHit:3 http://archive.ubuntu.com/ubuntu jammy InRelease\n",
            "Get:4 http://security.ubuntu.com/ubuntu jammy-security InRelease [110 kB]\n",
            "Get:5 http://archive.ubuntu.com/ubuntu jammy-updates InRelease [119 kB]\n",
            "Get:6 http://archive.ubuntu.com/ubuntu jammy-backports InRelease [109 kB]\n",
            "Get:7 https://ppa.launchpadcontent.net/c2d4u.team/c2d4u4.0+/ubuntu jammy InRelease [18.1 kB]\n",
            "Get:8 http://security.ubuntu.com/ubuntu jammy-security/universe amd64 Packages [1,005 kB]\n",
            "Get:9 http://archive.ubuntu.com/ubuntu jammy-updates/universe amd64 Packages [1,270 kB]\n",
            "Get:10 http://security.ubuntu.com/ubuntu jammy-security/main amd64 Packages [1,082 kB]\n",
            "Get:11 http://archive.ubuntu.com/ubuntu jammy-updates/main amd64 Packages [1,347 kB]\n",
            "Hit:12 https://ppa.launchpadcontent.net/deadsnakes/ppa/ubuntu jammy InRelease\n",
            "Hit:13 https://ppa.launchpadcontent.net/graphics-drivers/ppa/ubuntu jammy InRelease\n",
            "Hit:14 https://ppa.launchpadcontent.net/ubuntugis/ppa/ubuntu jammy InRelease\n",
            "Get:15 https://ppa.launchpadcontent.net/c2d4u.team/c2d4u4.0+/ubuntu jammy/main Sources [2,213 kB]\n",
            "Get:16 https://ppa.launchpadcontent.net/c2d4u.team/c2d4u4.0+/ubuntu jammy/main amd64 Packages [1,136 kB]\n",
            "Fetched 8,412 kB in 5s (1,831 kB/s)\n",
            "Reading package lists... Done\n",
            "Building dependency tree... Done\n",
            "Reading state information... Done\n",
            "27 packages can be upgraded. Run 'apt list --upgradable' to see them.\n",
            "Reading package lists... Done\n",
            "Building dependency tree... Done\n",
            "Reading state information... Done\n",
            "Calculating upgrade... Done\n",
            "The following packages have been kept back:\n",
            "  libcudnn8 libcudnn8-dev libnccl-dev libnccl2\n",
            "The following packages will be upgraded:\n",
            "  base-files binutils binutils-common binutils-x86-64-linux-gnu cuda-keyring\n",
            "  cuda-toolkit-config-common libbinutils libc-bin libcap2 libctf-nobfd0 libctf0 libldap-2.5-0\n",
            "  libudev1 linux-libc-dev r-cran-fansi r-cran-ggplot2 r-cran-htmltools r-cran-rpart r-cran-svglite\n",
            "  r-cran-systemfonts r-cran-tinytex r-cran-vctrs r-cran-vroom\n",
            "23 upgraded, 0 newly installed, 0 to remove and 4 not upgraded.\n",
            "Need to get 13.9 MB of archives.\n",
            "After this operation, 1,084 kB of additional disk space will be used.\n",
            "Get:1 http://archive.ubuntu.com/ubuntu jammy-updates/main amd64 base-files amd64 12ubuntu4.4 [62.6 kB]\n",
            "Get:2 https://developer.download.nvidia.com/compute/cuda/repos/ubuntu2204/x86_64  cuda-keyring 1.1-1 [4,332 B]\n",
            "Get:3 https://developer.download.nvidia.com/compute/cuda/repos/ubuntu2204/x86_64  cuda-toolkit-config-common 12.2.140-1 [16.3 kB]\n",
            "Get:4 http://archive.ubuntu.com/ubuntu jammy-updates/main amd64 libc-bin amd64 2.35-0ubuntu3.4 [706 kB]\n",
            "Get:5 http://archive.ubuntu.com/ubuntu jammy-updates/main amd64 libcap2 amd64 1:2.44-1ubuntu0.22.04.1 [18.3 kB]\n",
            "Get:6 http://archive.ubuntu.com/ubuntu jammy-updates/main amd64 libudev1 amd64 249.11-0ubuntu3.10 [78.0 kB]\n",
            "Get:7 http://archive.ubuntu.com/ubuntu jammy-updates/main amd64 libctf0 amd64 2.38-4ubuntu2.3 [103 kB]\n",
            "Get:8 http://archive.ubuntu.com/ubuntu jammy-updates/main amd64 libctf-nobfd0 amd64 2.38-4ubuntu2.3 [107 kB]\n",
            "Get:9 http://archive.ubuntu.com/ubuntu jammy-updates/main amd64 binutils-x86-64-linux-gnu amd64 2.38-4ubuntu2.3 [2,327 kB]\n",
            "Get:10 http://archive.ubuntu.com/ubuntu jammy-updates/main amd64 libbinutils amd64 2.38-4ubuntu2.3 [662 kB]\n",
            "Get:11 http://archive.ubuntu.com/ubuntu jammy-updates/main amd64 binutils amd64 2.38-4ubuntu2.3 [3,190 B]\n",
            "Get:12 http://archive.ubuntu.com/ubuntu jammy-updates/main amd64 binutils-common amd64 2.38-4ubuntu2.3 [222 kB]\n",
            "Get:13 http://archive.ubuntu.com/ubuntu jammy-updates/main amd64 libldap-2.5-0 amd64 2.5.16+dfsg-0ubuntu0.22.04.1 [183 kB]\n",
            "Get:14 http://archive.ubuntu.com/ubuntu jammy-updates/main amd64 linux-libc-dev amd64 5.15.0-86.96 [1,338 kB]\n",
            "Get:15 https://ppa.launchpadcontent.net/c2d4u.team/c2d4u4.0+/ubuntu jammy/main amd64 r-cran-fansi amd64 1.0.5-1cran1.2204.0 [302 kB]\n",
            "Get:16 https://ppa.launchpadcontent.net/c2d4u.team/c2d4u4.0+/ubuntu jammy/main amd64 r-cran-systemfonts amd64 1.0.5-1cran1.2204.0 [220 kB]\n",
            "Get:17 https://ppa.launchpadcontent.net/c2d4u.team/c2d4u4.0+/ubuntu jammy/main amd64 r-cran-svglite amd64 2.1.2-1cran1.2204.0 [187 kB]\n",
            "Get:18 https://ppa.launchpadcontent.net/c2d4u.team/c2d4u4.0+/ubuntu jammy/main amd64 r-cran-vctrs amd64 0.6.4-1cran1.2204.0 [1,217 kB]\n",
            "Get:19 https://ppa.launchpadcontent.net/c2d4u.team/c2d4u4.0+/ubuntu jammy/main amd64 r-cran-ggplot2 all 3.4.4-1cran1.2204.0 [4,129 kB]\n",
            "Get:20 https://ppa.launchpadcontent.net/c2d4u.team/c2d4u4.0+/ubuntu jammy/main amd64 r-cran-htmltools amd64 0.5.6.1-1cran1.2204.0 [344 kB]\n",
            "Get:21 https://ppa.launchpadcontent.net/c2d4u.team/c2d4u4.0+/ubuntu jammy/main amd64 r-cran-rpart amd64 4.1.21-1cran1.2204.0 [678 kB]\n",
            "Get:22 https://ppa.launchpadcontent.net/c2d4u.team/c2d4u4.0+/ubuntu jammy/main amd64 r-cran-tinytex all 0.48-1cran1.2204.0 [136 kB]\n",
            "Get:23 https://ppa.launchpadcontent.net/c2d4u.team/c2d4u4.0+/ubuntu jammy/main amd64 r-cran-vroom amd64 1.6.4-1cran1.2204.0 [845 kB]\n",
            "Fetched 13.9 MB in 10s (1,457 kB/s)\n",
            "(Reading database ... 120875 files and directories currently installed.)\n",
            "Preparing to unpack .../base-files_12ubuntu4.4_amd64.deb ...\n",
            "Unpacking base-files (12ubuntu4.4) over (12ubuntu4.3) ...\n",
            "Setting up base-files (12ubuntu4.4) ...\n",
            "Installing new version of config file /etc/issue ...\n",
            "Installing new version of config file /etc/issue.net ...\n",
            "Installing new version of config file /etc/lsb-release ...\n",
            "(Reading database ... 120875 files and directories currently installed.)\n",
            "Preparing to unpack .../libc-bin_2.35-0ubuntu3.4_amd64.deb ...\n",
            "Unpacking libc-bin (2.35-0ubuntu3.4) over (2.35-0ubuntu3.1) ...\n",
            "Setting up libc-bin (2.35-0ubuntu3.4) ...\n",
            "/sbin/ldconfig.real: /usr/local/lib/libtbbbind_2_5.so.3 is not a symbolic link\n",
            "\n",
            "/sbin/ldconfig.real: /usr/local/lib/libtbbbind.so.3 is not a symbolic link\n",
            "\n",
            "/sbin/ldconfig.real: /usr/local/lib/libtbbbind_2_0.so.3 is not a symbolic link\n",
            "\n",
            "/sbin/ldconfig.real: /usr/local/lib/libtbb.so.12 is not a symbolic link\n",
            "\n",
            "/sbin/ldconfig.real: /usr/local/lib/libtbbmalloc.so.2 is not a symbolic link\n",
            "\n",
            "/sbin/ldconfig.real: /usr/local/lib/libtbbmalloc_proxy.so.2 is not a symbolic link\n",
            "\n",
            "(Reading database ... 120875 files and directories currently installed.)\n",
            "Preparing to unpack .../libcap2_1%3a2.44-1ubuntu0.22.04.1_amd64.deb ...\n",
            "Unpacking libcap2:amd64 (1:2.44-1ubuntu0.22.04.1) over (1:2.44-1build3) ...\n",
            "Setting up libcap2:amd64 (1:2.44-1ubuntu0.22.04.1) ...\n",
            "(Reading database ... 120875 files and directories currently installed.)\n",
            "Preparing to unpack .../libudev1_249.11-0ubuntu3.10_amd64.deb ...\n",
            "Unpacking libudev1:amd64 (249.11-0ubuntu3.10) over (249.11-0ubuntu3.9) ...\n",
            "Setting up libudev1:amd64 (249.11-0ubuntu3.10) ...\n",
            "(Reading database ... 120875 files and directories currently installed.)\n",
            "Preparing to unpack .../00-libctf0_2.38-4ubuntu2.3_amd64.deb ...\n",
            "Unpacking libctf0:amd64 (2.38-4ubuntu2.3) over (2.38-4ubuntu2.2) ...\n",
            "Preparing to unpack .../01-libctf-nobfd0_2.38-4ubuntu2.3_amd64.deb ...\n",
            "Unpacking libctf-nobfd0:amd64 (2.38-4ubuntu2.3) over (2.38-4ubuntu2.2) ...\n",
            "Preparing to unpack .../02-binutils-x86-64-linux-gnu_2.38-4ubuntu2.3_amd64.deb ...\n",
            "Unpacking binutils-x86-64-linux-gnu (2.38-4ubuntu2.3) over (2.38-4ubuntu2.2) ...\n",
            "Preparing to unpack .../03-libbinutils_2.38-4ubuntu2.3_amd64.deb ...\n",
            "Unpacking libbinutils:amd64 (2.38-4ubuntu2.3) over (2.38-4ubuntu2.2) ...\n",
            "Preparing to unpack .../04-binutils_2.38-4ubuntu2.3_amd64.deb ...\n",
            "Unpacking binutils (2.38-4ubuntu2.3) over (2.38-4ubuntu2.2) ...\n",
            "Preparing to unpack .../05-binutils-common_2.38-4ubuntu2.3_amd64.deb ...\n",
            "Unpacking binutils-common:amd64 (2.38-4ubuntu2.3) over (2.38-4ubuntu2.2) ...\n",
            "Preparing to unpack .../06-cuda-keyring_1.1-1_all.deb ...\n",
            "Unpacking cuda-keyring (1.1-1) over (1.0-1) ...\n",
            "Preparing to unpack .../07-cuda-toolkit-config-common_12.2.140-1_all.deb ...\n",
            "Unpacking cuda-toolkit-config-common (12.2.140-1) over (12.1.105-1) ...\n",
            "Preparing to unpack .../08-libldap-2.5-0_2.5.16+dfsg-0ubuntu0.22.04.1_amd64.deb ...\n",
            "Unpacking libldap-2.5-0:amd64 (2.5.16+dfsg-0ubuntu0.22.04.1) over (2.5.14+dfsg-0ubuntu0.22.04.2) ...\n",
            "Preparing to unpack .../09-linux-libc-dev_5.15.0-86.96_amd64.deb ...\n",
            "Unpacking linux-libc-dev:amd64 (5.15.0-86.96) over (5.15.0-75.82) ...\n",
            "Preparing to unpack .../10-r-cran-fansi_1.0.5-1cran1.2204.0_amd64.deb ...\n",
            "Unpacking r-cran-fansi (1.0.5-1cran1.2204.0) over (1.0.4-1cran1.2204.0) ...\n",
            "Preparing to unpack .../11-r-cran-systemfonts_1.0.5-1cran1.2204.0_amd64.deb ...\n",
            "Unpacking r-cran-systemfonts (1.0.5-1cran1.2204.0) over (1.0.4-1cran1.2204.0) ...\n",
            "Preparing to unpack .../12-r-cran-svglite_2.1.2-1cran1.2204.0_amd64.deb ...\n",
            "Unpacking r-cran-svglite (2.1.2-1cran1.2204.0) over (2.1.1-4cran1.2204.0) ...\n",
            "Preparing to unpack .../13-r-cran-vctrs_0.6.4-1cran1.2204.0_amd64.deb ...\n",
            "Unpacking r-cran-vctrs (0.6.4-1cran1.2204.0) over (0.6.3-1cran1.2204.0) ...\n",
            "Preparing to unpack .../14-r-cran-ggplot2_3.4.4-1cran1.2204.0_all.deb ...\n",
            "Unpacking r-cran-ggplot2 (3.4.4-1cran1.2204.0) over (3.4.3-1cran1.2204.0) ...\n",
            "Preparing to unpack .../15-r-cran-htmltools_0.5.6.1-1cran1.2204.0_amd64.deb ...\n",
            "Unpacking r-cran-htmltools (0.5.6.1-1cran1.2204.0) over (0.5.6-1cran1.2204.0) ...\n",
            "Preparing to unpack .../16-r-cran-rpart_4.1.21-1cran1.2204.0_amd64.deb ...\n",
            "Unpacking r-cran-rpart (4.1.21-1cran1.2204.0) over (4.1.19-1.2204.0) ...\n",
            "Preparing to unpack .../17-r-cran-tinytex_0.48-1cran1.2204.0_all.deb ...\n",
            "Unpacking r-cran-tinytex (0.48-1cran1.2204.0) over (0.47-1cran1.2204.0) ...\n",
            "Preparing to unpack .../18-r-cran-vroom_1.6.4-1cran1.2204.0_amd64.deb ...\n",
            "Unpacking r-cran-vroom (1.6.4-1cran1.2204.0) over (1.6.3-1cran1.2204.0) ...\n",
            "Setting up cuda-toolkit-config-common (12.2.140-1) ...\n",
            "Setting up r-cran-rpart (4.1.21-1cran1.2204.0) ...\n",
            "Setting up binutils-common:amd64 (2.38-4ubuntu2.3) ...\n",
            "Setting up r-cran-fansi (1.0.5-1cran1.2204.0) ...\n",
            "Setting up linux-libc-dev:amd64 (5.15.0-86.96) ...\n",
            "Setting up libctf-nobfd0:amd64 (2.38-4ubuntu2.3) ...\n",
            "Setting up libldap-2.5-0:amd64 (2.5.16+dfsg-0ubuntu0.22.04.1) ...\n",
            "Setting up r-cran-systemfonts (1.0.5-1cran1.2204.0) ...\n",
            "Setting up cuda-keyring (1.1-1) ...\n",
            "Setting up r-cran-svglite (2.1.2-1cran1.2204.0) ...\n",
            "Setting up r-cran-htmltools (0.5.6.1-1cran1.2204.0) ...\n",
            "Setting up r-cran-tinytex (0.48-1cran1.2204.0) ...\n",
            "Setting up libbinutils:amd64 (2.38-4ubuntu2.3) ...\n",
            "Setting up r-cran-vctrs (0.6.4-1cran1.2204.0) ...\n",
            "Setting up libctf0:amd64 (2.38-4ubuntu2.3) ...\n",
            "Setting up r-cran-vroom (1.6.4-1cran1.2204.0) ...\n",
            "Setting up r-cran-ggplot2 (3.4.4-1cran1.2204.0) ...\n",
            "Setting up binutils-x86-64-linux-gnu (2.38-4ubuntu2.3) ...\n",
            "Setting up binutils (2.38-4ubuntu2.3) ...\n",
            "Processing triggers for libc-bin (2.35-0ubuntu3.4) ...\n",
            "/sbin/ldconfig.real: /usr/local/lib/libtbbbind_2_5.so.3 is not a symbolic link\n",
            "\n",
            "/sbin/ldconfig.real: /usr/local/lib/libtbbbind.so.3 is not a symbolic link\n",
            "\n",
            "/sbin/ldconfig.real: /usr/local/lib/libtbbbind_2_0.so.3 is not a symbolic link\n",
            "\n",
            "/sbin/ldconfig.real: /usr/local/lib/libtbb.so.12 is not a symbolic link\n",
            "\n",
            "/sbin/ldconfig.real: /usr/local/lib/libtbbmalloc.so.2 is not a symbolic link\n",
            "\n",
            "/sbin/ldconfig.real: /usr/local/lib/libtbbmalloc_proxy.so.2 is not a symbolic link\n",
            "\n",
            "Processing triggers for man-db (2.10.2-1) ...\n"
          ]
        }
      ]
    },
    {
      "cell_type": "code",
      "source": [
        "!pip install scikit-learn\n"
      ],
      "metadata": {
        "colab": {
          "base_uri": "https://localhost:8080/"
        },
        "id": "Ku5Osjn0QXQr",
        "outputId": "75c960c5-7664-4b2c-9dfa-379705320067"
      },
      "execution_count": 4,
      "outputs": [
        {
          "output_type": "stream",
          "name": "stdout",
          "text": [
            "Requirement already satisfied: scikit-learn in /usr/local/lib/python3.10/dist-packages (1.2.2)\n",
            "Requirement already satisfied: numpy>=1.17.3 in /usr/local/lib/python3.10/dist-packages (from scikit-learn) (1.23.5)\n",
            "Requirement already satisfied: scipy>=1.3.2 in /usr/local/lib/python3.10/dist-packages (from scikit-learn) (1.11.3)\n",
            "Requirement already satisfied: joblib>=1.1.1 in /usr/local/lib/python3.10/dist-packages (from scikit-learn) (1.3.2)\n",
            "Requirement already satisfied: threadpoolctl>=2.0.0 in /usr/local/lib/python3.10/dist-packages (from scikit-learn) (3.2.0)\n",
            "\u001b[33mWARNING: Running pip as the 'root' user can result in broken permissions and conflicting behaviour with the system package manager. It is recommended to use a virtual environment instead: https://pip.pypa.io/warnings/venv\u001b[0m\u001b[33m\n",
            "\u001b[0m"
          ]
        }
      ]
    },
    {
      "cell_type": "code",
      "source": [
        "pip install pillow"
      ],
      "metadata": {
        "colab": {
          "base_uri": "https://localhost:8080/"
        },
        "id": "pYviZpCdOM0V",
        "outputId": "49417b45-2525-420a-82e1-afa92b3c1c1d"
      },
      "execution_count": 5,
      "outputs": [
        {
          "output_type": "stream",
          "name": "stdout",
          "text": [
            "Requirement already satisfied: pillow in /usr/local/lib/python3.10/dist-packages (9.4.0)\n",
            "\u001b[33mWARNING: Running pip as the 'root' user can result in broken permissions and conflicting behaviour with the system package manager. It is recommended to use a virtual environment instead: https://pip.pypa.io/warnings/venv\u001b[0m\u001b[33m\n",
            "\u001b[0m"
          ]
        }
      ]
    },
    {
      "cell_type": "code",
      "source": [
        "pip install mnist"
      ],
      "metadata": {
        "colab": {
          "base_uri": "https://localhost:8080/"
        },
        "id": "Dhoj_M3tOSqd",
        "outputId": "694a2359-2cf0-411e-f083-5dc5b9a73e2a"
      },
      "execution_count": 6,
      "outputs": [
        {
          "output_type": "stream",
          "name": "stdout",
          "text": [
            "Requirement already satisfied: mnist in /usr/local/lib/python3.10/dist-packages (0.2.2)\n",
            "Requirement already satisfied: numpy in /usr/local/lib/python3.10/dist-packages (from mnist) (1.23.5)\n",
            "\u001b[33mWARNING: Running pip as the 'root' user can result in broken permissions and conflicting behaviour with the system package manager. It is recommended to use a virtual environment instead: https://pip.pypa.io/warnings/venv\u001b[0m\u001b[33m\n",
            "\u001b[0m"
          ]
        }
      ]
    },
    {
      "cell_type": "code",
      "source": [
        "#next we download gimp from google and create a 28 * 28\timage\n",
        "# a python program that gives the pixel and we give that pixel to our model and hopefully it returns the number we wrote with gimp\n",
        "#image to bytes\n",
        "from PIL import Image\n",
        "img = Image.open(\"img.xcf\")\n",
        "data= list(img.getdata())\n",
        "print(data)\n",
        "\n",
        "\n",
        "# after viewing our data we found out that it is the opposite of the data we had in our dataset. ous started with all 0s but this starts with all 1s\n",
        "\n",
        "\n",
        "#converting the data to suit ours\n",
        "for i in range(len(data)):\n",
        "\tdata[i]= 255- data[i]\n",
        "print(data)\n",
        "\n",
        "#after running the program we copy the data and store it ina variable called five\n",
        "\n",
        "five=np.array(five)/256\n",
        "#divifing by 256 to convert them within the data range\n",
        "p= clf.predict([five])\n",
        "print(p)"
      ],
      "metadata": {
        "id": "_pkVg8B8Kmv1"
      },
      "execution_count": null,
      "outputs": []
    },
    {
      "cell_type": "code",
      "source": [
        "import tensorflow as tf\n",
        "from sklearn.neural_network import MLPClassifier\n",
        "from sklearn.metrics import confusion_matrix\n",
        "\n",
        "# Load the MNIST dataset\n",
        "mnist = tf.keras.datasets.mnist\n",
        "(x_train, y_train), (x_test, y_test) = mnist.load_data()\n",
        "\n",
        "# Normalize the pixel values\n",
        "x_train, x_test = x_train / 255.0, x_test / 255.0\n",
        "\n",
        "# Flatten the image data\n",
        "x_train = x_train.reshape(x_train.shape[0], -1)\n",
        "x_test = x_test.reshape(x_test.shape[0], -1)\n",
        "\n",
        "# Create and train your MLPClassifier\n",
        "clf = MLPClassifier(solver='adam', activation='relu', hidden_layer_sizes=(64, 64))\n",
        "clf.fit(x_train, y_train)\n",
        "\n",
        "# Make predictions and calculate accuracy\n",
        "predictions = clf.predict(x_test)\n",
        "accuracy = confusion_matrix(y_test, predictions)\n",
        "print(accuracy)\n"
      ],
      "metadata": {
        "colab": {
          "base_uri": "https://localhost:8080/"
        },
        "id": "6BT1L4RJTn5l",
        "outputId": "462e0220-9e6e-45e9-f777-74aa5b72b65a"
      },
      "execution_count": 10,
      "outputs": [
        {
          "output_type": "stream",
          "name": "stdout",
          "text": [
            "Downloading data from https://storage.googleapis.com/tensorflow/tf-keras-datasets/mnist.npz\n",
            "11490434/11490434 [==============================] - 0s 0us/step\n",
            "[[ 968    0    2    3    1    1    1    0    2    2]\n",
            " [   0 1123    3    1    0    1    2    1    4    0]\n",
            " [   3    2 1012    3    1    0    1    4    6    0]\n",
            " [   0    0    1  991    1    5    0    2    3    7]\n",
            " [   1    0    3    0  953    2    4    4    1   14]\n",
            " [   2    0    0    7    1  866    3    1    7    5]\n",
            " [   4    2    3    1    7    6  932    0    3    0]\n",
            " [   1    7    8    1    1    0    0 1001    3    6]\n",
            " [   7    0    2    6    5    8    2    2  938    4]\n",
            " [   3    2    1    3   10    5    0    9    0  976]]\n"
          ]
        }
      ]
    },
    {
      "cell_type": "code",
      "source": [
        "from PIL import Image\n",
        "import numpy as np\n",
        "\n",
        "# Load the image in a common format (e.g., PNG or JPG)\n",
        "img = Image.open('img.jpg')\n",
        "\n",
        "# Convert the image to grayscale (if not already)\n",
        "img = img.convert('L')\n",
        "\n",
        "# Resize the image to 28x28 pixels (if not already)\n",
        "img = img.resize((28, 28))\n",
        "\n",
        "# Convert the image data to a numpy array\n",
        "data = np.array(img)\n",
        "\n",
        "data = 255 - data\n",
        "\n",
        "# Normalize the pixel values to be in the range [0, 1]\n",
        "data = data / 255.0\n",
        "\n",
        "data = data.reshape(1, -1)\n",
        "\n",
        "# Use your trained model to make predictions\n",
        "prediction = clf.predict(data)\n",
        "\n",
        "# Print the predicted number\n",
        "print(\"Predicted Number:\", prediction[0])\n"
      ],
      "metadata": {
        "colab": {
          "base_uri": "https://localhost:8080/"
        },
        "id": "NmnjRuJNW58n",
        "outputId": "dc0fb696-9135-497e-dbed-4b197ad96264"
      },
      "execution_count": 18,
      "outputs": [
        {
          "output_type": "stream",
          "name": "stdout",
          "text": [
            "Predicted Number: 2\n"
          ]
        }
      ]
    }
  ]
}