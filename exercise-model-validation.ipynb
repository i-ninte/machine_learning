{
 "cells": [
  {
   "cell_type": "markdown",
   "id": "2c3743c0",
   "metadata": {
    "papermill": {
     "duration": 0.006349,
     "end_time": "2023-05-22T16:06:48.327006",
     "exception": false,
     "start_time": "2023-05-22T16:06:48.320657",
     "status": "completed"
    },
    "tags": []
   },
   "source": [
    "**This notebook is an exercise in the [Introduction to Machine Learning](https://www.kaggle.com/learn/intro-to-machine-learning) course.  You can reference the tutorial at [this link](https://www.kaggle.com/dansbecker/model-validation).**\n",
    "\n",
    "---\n"
   ]
  },
  {
   "cell_type": "markdown",
   "id": "a807d14f",
   "metadata": {
    "papermill": {
     "duration": 0.00549,
     "end_time": "2023-05-22T16:06:48.338583",
     "exception": false,
     "start_time": "2023-05-22T16:06:48.333093",
     "status": "completed"
    },
    "tags": []
   },
   "source": [
    "## Recap\n",
    "You've built a model. In this exercise you will test how good your model is.\n",
    "\n",
    "Run the cell below to set up your coding environment where the previous exercise left off."
   ]
  },
  {
   "cell_type": "code",
   "execution_count": 1,
   "id": "cfff9098",
   "metadata": {
    "execution": {
     "iopub.execute_input": "2023-05-22T16:06:48.353092Z",
     "iopub.status.busy": "2023-05-22T16:06:48.352352Z",
     "iopub.status.idle": "2023-05-22T16:06:50.162875Z",
     "shell.execute_reply": "2023-05-22T16:06:50.161483Z"
    },
    "papermill": {
     "duration": 1.820842,
     "end_time": "2023-05-22T16:06:50.165258",
     "exception": false,
     "start_time": "2023-05-22T16:06:48.344416",
     "status": "completed"
    },
    "tags": []
   },
   "outputs": [
    {
     "name": "stderr",
     "output_type": "stream",
     "text": [
      "/opt/conda/lib/python3.10/site-packages/scipy/__init__.py:146: UserWarning: A NumPy version >=1.16.5 and <1.23.0 is required for this version of SciPy (detected version 1.23.5\n",
      "  warnings.warn(f\"A NumPy version >={np_minversion} and <{np_maxversion}\"\n"
     ]
    },
    {
     "name": "stdout",
     "output_type": "stream",
     "text": [
      "First in-sample predictions: [208500. 181500. 223500. 140000. 250000.]\n",
      "Actual target values for those homes: [208500, 181500, 223500, 140000, 250000]\n",
      "Setup Complete\n"
     ]
    }
   ],
   "source": [
    "# Code you have previously used to load data\n",
    "import pandas as pd\n",
    "from sklearn.tree import DecisionTreeRegressor\n",
    "\n",
    "# Path of the file to read\n",
    "iowa_file_path = '../input/home-data-for-ml-course/train.csv'\n",
    "\n",
    "home_data = pd.read_csv(iowa_file_path)\n",
    "y = home_data.SalePrice\n",
    "feature_columns = ['LotArea', 'YearBuilt', '1stFlrSF', '2ndFlrSF', 'FullBath', 'BedroomAbvGr', 'TotRmsAbvGrd']\n",
    "X = home_data[feature_columns]\n",
    "\n",
    "# Specify Model\n",
    "iowa_model = DecisionTreeRegressor()\n",
    "# Fit Model\n",
    "iowa_model.fit(X, y)\n",
    "\n",
    "print(\"First in-sample predictions:\", iowa_model.predict(X.head()))\n",
    "print(\"Actual target values for those homes:\", y.head().tolist())\n",
    "\n",
    "# Set up code checking\n",
    "from learntools.core import binder\n",
    "binder.bind(globals())\n",
    "from learntools.machine_learning.ex4 import *\n",
    "print(\"Setup Complete\")"
   ]
  },
  {
   "cell_type": "markdown",
   "id": "26a61d0b",
   "metadata": {
    "papermill": {
     "duration": 0.005601,
     "end_time": "2023-05-22T16:06:50.176920",
     "exception": false,
     "start_time": "2023-05-22T16:06:50.171319",
     "status": "completed"
    },
    "tags": []
   },
   "source": [
    "# Exercises\n",
    "\n",
    "## Step 1: Split Your Data\n",
    "Use the `train_test_split` function to split up your data.\n",
    "\n",
    "Give it the argument `random_state=1` so the `check` functions know what to expect when verifying your code.\n",
    "\n",
    "Recall, your features are loaded in the DataFrame **X** and your target is loaded in **y**.\n"
   ]
  },
  {
   "cell_type": "code",
   "execution_count": 2,
   "id": "6c677e8c",
   "metadata": {
    "execution": {
     "iopub.execute_input": "2023-05-22T16:06:50.190446Z",
     "iopub.status.busy": "2023-05-22T16:06:50.190025Z",
     "iopub.status.idle": "2023-05-22T16:06:50.204966Z",
     "shell.execute_reply": "2023-05-22T16:06:50.203890Z"
    },
    "papermill": {
     "duration": 0.024406,
     "end_time": "2023-05-22T16:06:50.207146",
     "exception": false,
     "start_time": "2023-05-22T16:06:50.182740",
     "status": "completed"
    },
    "tags": []
   },
   "outputs": [
    {
     "data": {
      "application/javascript": [
       "parent.postMessage({\"jupyterEvent\": \"custom.exercise_interaction\", \"data\": {\"outcomeType\": 1, \"valueTowardsCompletion\": 0.25, \"interactionType\": 1, \"questionType\": 2, \"questionId\": \"1_SplitData\", \"learnToolsVersion\": \"0.3.4\", \"failureMessage\": \"\", \"exceptionClass\": \"\", \"trace\": \"\"}}, \"*\")"
      ],
      "text/plain": [
       "<IPython.core.display.Javascript object>"
      ]
     },
     "metadata": {},
     "output_type": "display_data"
    },
    {
     "data": {
      "text/markdown": [
       "<span style=\"color:#33cc33\">Correct</span>"
      ],
      "text/plain": [
       "Correct"
      ]
     },
     "metadata": {},
     "output_type": "display_data"
    }
   ],
   "source": [
    "# Import the train_test_split function and uncomment\n",
    "from sklearn.model_selection import train_test_split\n",
    "\n",
    "\n",
    "# fill in and uncomment\n",
    "train_X, val_X, train_y, val_y = train_test_split(X, y, random_state = 1)\n",
    "\n",
    "# Check your answer\n",
    "step_1.check()"
   ]
  },
  {
   "cell_type": "code",
   "execution_count": 3,
   "id": "b23f34e9",
   "metadata": {
    "execution": {
     "iopub.execute_input": "2023-05-22T16:06:50.222163Z",
     "iopub.status.busy": "2023-05-22T16:06:50.221150Z",
     "iopub.status.idle": "2023-05-22T16:06:50.226518Z",
     "shell.execute_reply": "2023-05-22T16:06:50.225638Z"
    },
    "papermill": {
     "duration": 0.015186,
     "end_time": "2023-05-22T16:06:50.228800",
     "exception": false,
     "start_time": "2023-05-22T16:06:50.213614",
     "status": "completed"
    },
    "tags": []
   },
   "outputs": [],
   "source": [
    "# The lines below will show you a hint or the solution.\n",
    "#step_1.hint() \n",
    "# step_1.solution()\n"
   ]
  },
  {
   "cell_type": "markdown",
   "id": "597261fb",
   "metadata": {
    "papermill": {
     "duration": 0.006035,
     "end_time": "2023-05-22T16:06:50.241047",
     "exception": false,
     "start_time": "2023-05-22T16:06:50.235012",
     "status": "completed"
    },
    "tags": []
   },
   "source": [
    "## Step 2: Specify and Fit the Model\n",
    "\n",
    "Create a `DecisionTreeRegressor` model and fit it to the relevant data.\n",
    "Set `random_state` to 1 again when creating the model."
   ]
  },
  {
   "cell_type": "code",
   "execution_count": 4,
   "id": "f29ab561",
   "metadata": {
    "execution": {
     "iopub.execute_input": "2023-05-22T16:06:50.255136Z",
     "iopub.status.busy": "2023-05-22T16:06:50.254720Z",
     "iopub.status.idle": "2023-05-22T16:06:50.284667Z",
     "shell.execute_reply": "2023-05-22T16:06:50.283514Z"
    },
    "papermill": {
     "duration": 0.039943,
     "end_time": "2023-05-22T16:06:50.287142",
     "exception": false,
     "start_time": "2023-05-22T16:06:50.247199",
     "status": "completed"
    },
    "tags": []
   },
   "outputs": [
    {
     "name": "stdout",
     "output_type": "stream",
     "text": [
      "[186500. 184000. 130000.  92000. 164500. 220000. 335000. 144152. 215000.\n",
      " 262000.]\n",
      "[186500. 184000. 130000.  92000. 164500. 220000. 335000. 144152. 215000.\n",
      " 262000.]\n"
     ]
    },
    {
     "data": {
      "application/javascript": [
       "parent.postMessage({\"jupyterEvent\": \"custom.exercise_interaction\", \"data\": {\"outcomeType\": 1, \"valueTowardsCompletion\": 0.25, \"interactionType\": 1, \"questionType\": 2, \"questionId\": \"2_FitModelWithTrain\", \"learnToolsVersion\": \"0.3.4\", \"failureMessage\": \"\", \"exceptionClass\": \"\", \"trace\": \"\"}}, \"*\")"
      ],
      "text/plain": [
       "<IPython.core.display.Javascript object>"
      ]
     },
     "metadata": {},
     "output_type": "display_data"
    },
    {
     "data": {
      "text/markdown": [
       "<span style=\"color:#33cc33\">Correct</span>"
      ],
      "text/plain": [
       "Correct"
      ]
     },
     "metadata": {},
     "output_type": "display_data"
    }
   ],
   "source": [
    "# You imported DecisionTreeRegressor in your last exercise\n",
    "# and that code has been copied to the setup code above. So, no need to\n",
    "# import it again\n",
    "\n",
    "# Specify the model\n",
    "iowa_model = DecisionTreeRegressor(random_state=1)\n",
    "\n",
    "# Fit iowa_model with the training data.\n",
    "iowa_model.fit(train_X,train_y)\n",
    "\n",
    "# Check your answer\n",
    "step_2.check()"
   ]
  },
  {
   "cell_type": "code",
   "execution_count": 5,
   "id": "0fd3fa64",
   "metadata": {
    "execution": {
     "iopub.execute_input": "2023-05-22T16:06:50.302952Z",
     "iopub.status.busy": "2023-05-22T16:06:50.302250Z",
     "iopub.status.idle": "2023-05-22T16:06:50.306705Z",
     "shell.execute_reply": "2023-05-22T16:06:50.305799Z"
    },
    "papermill": {
     "duration": 0.01533,
     "end_time": "2023-05-22T16:06:50.309222",
     "exception": false,
     "start_time": "2023-05-22T16:06:50.293892",
     "status": "completed"
    },
    "tags": []
   },
   "outputs": [],
   "source": [
    "# step_2.hint()\n",
    "# step_2.solution()"
   ]
  },
  {
   "cell_type": "markdown",
   "id": "af93c847",
   "metadata": {
    "papermill": {
     "duration": 0.006781,
     "end_time": "2023-05-22T16:06:50.322929",
     "exception": false,
     "start_time": "2023-05-22T16:06:50.316148",
     "status": "completed"
    },
    "tags": []
   },
   "source": [
    "## Step 3: Make Predictions with Validation data\n"
   ]
  },
  {
   "cell_type": "code",
   "execution_count": 6,
   "id": "ff2c553b",
   "metadata": {
    "execution": {
     "iopub.execute_input": "2023-05-22T16:06:50.339415Z",
     "iopub.status.busy": "2023-05-22T16:06:50.338754Z",
     "iopub.status.idle": "2023-05-22T16:06:50.352307Z",
     "shell.execute_reply": "2023-05-22T16:06:50.351148Z"
    },
    "papermill": {
     "duration": 0.024837,
     "end_time": "2023-05-22T16:06:50.354597",
     "exception": false,
     "start_time": "2023-05-22T16:06:50.329760",
     "status": "completed"
    },
    "tags": []
   },
   "outputs": [
    {
     "data": {
      "application/javascript": [
       "parent.postMessage({\"jupyterEvent\": \"custom.exercise_interaction\", \"data\": {\"outcomeType\": 1, \"valueTowardsCompletion\": 0.25, \"interactionType\": 1, \"questionType\": 2, \"questionId\": \"3_ValPreds\", \"learnToolsVersion\": \"0.3.4\", \"failureMessage\": \"\", \"exceptionClass\": \"\", \"trace\": \"\"}}, \"*\")"
      ],
      "text/plain": [
       "<IPython.core.display.Javascript object>"
      ]
     },
     "metadata": {},
     "output_type": "display_data"
    },
    {
     "data": {
      "text/markdown": [
       "<span style=\"color:#33cc33\">Correct</span>"
      ],
      "text/plain": [
       "Correct"
      ]
     },
     "metadata": {},
     "output_type": "display_data"
    }
   ],
   "source": [
    "# Predict with all validation observations\n",
    "val_predictions = iowa_model.predict(val_X)\n",
    "\n",
    "# Check your answer\n",
    "step_3.check()"
   ]
  },
  {
   "cell_type": "code",
   "execution_count": 7,
   "id": "386ca001",
   "metadata": {
    "execution": {
     "iopub.execute_input": "2023-05-22T16:06:50.371633Z",
     "iopub.status.busy": "2023-05-22T16:06:50.371000Z",
     "iopub.status.idle": "2023-05-22T16:06:50.375868Z",
     "shell.execute_reply": "2023-05-22T16:06:50.374613Z"
    },
    "papermill": {
     "duration": 0.016593,
     "end_time": "2023-05-22T16:06:50.378588",
     "exception": false,
     "start_time": "2023-05-22T16:06:50.361995",
     "status": "completed"
    },
    "tags": []
   },
   "outputs": [],
   "source": [
    "# step_3.hint()\n",
    "# step_3.solution()"
   ]
  },
  {
   "cell_type": "markdown",
   "id": "02d92c0d",
   "metadata": {
    "papermill": {
     "duration": 0.00695,
     "end_time": "2023-05-22T16:06:50.392988",
     "exception": false,
     "start_time": "2023-05-22T16:06:50.386038",
     "status": "completed"
    },
    "tags": []
   },
   "source": [
    "Inspect your predictions and actual values from validation data."
   ]
  },
  {
   "cell_type": "code",
   "execution_count": 8,
   "id": "2ce3981c",
   "metadata": {
    "execution": {
     "iopub.execute_input": "2023-05-22T16:06:50.409274Z",
     "iopub.status.busy": "2023-05-22T16:06:50.408905Z",
     "iopub.status.idle": "2023-05-22T16:06:50.422926Z",
     "shell.execute_reply": "2023-05-22T16:06:50.421066Z"
    },
    "papermill": {
     "duration": 0.02538,
     "end_time": "2023-05-22T16:06:50.425530",
     "exception": false,
     "start_time": "2023-05-22T16:06:50.400150",
     "status": "completed"
    },
    "tags": []
   },
   "outputs": [
    {
     "name": "stdout",
     "output_type": "stream",
     "text": [
      "[186500. 184000. 130000.  92000. 164500.]\n",
      "      LotArea  YearBuilt  1stFlrSF  2ndFlrSF  FullBath  BedroomAbvGr  \\\n",
      "258     12435       2001       963       829         2             3   \n",
      "267      8400       1939      1052       720         2             4   \n",
      "288      9819       1967       900         0         1             3   \n",
      "649      1936       1970       630         0         1             1   \n",
      "1233    12160       1959      1188         0         1             3   \n",
      "\n",
      "      TotRmsAbvGrd  \n",
      "258              7  \n",
      "267              8  \n",
      "288              5  \n",
      "649              3  \n",
      "1233             6  \n"
     ]
    }
   ],
   "source": [
    "# print the top few validation predictions\n",
    "\n",
    "print(val_predictions[:5])\n",
    "# print the top few actual prices from validation data\n",
    "print(val_X.head())"
   ]
  },
  {
   "cell_type": "markdown",
   "id": "a8595872",
   "metadata": {
    "papermill": {
     "duration": 0.007054,
     "end_time": "2023-05-22T16:06:50.440000",
     "exception": false,
     "start_time": "2023-05-22T16:06:50.432946",
     "status": "completed"
    },
    "tags": []
   },
   "source": [
    "What do you notice that is different from what you saw with in-sample predictions (which are printed after the top code cell in this page).\n",
    "\n",
    "Do you remember why validation predictions differ from in-sample (or training) predictions? This is an important idea from the last lesson.\n",
    "\n",
    "## Step 4: Calculate the Mean Absolute Error in Validation Data\n"
   ]
  },
  {
   "cell_type": "code",
   "execution_count": 9,
   "id": "4f7e24b8",
   "metadata": {
    "execution": {
     "iopub.execute_input": "2023-05-22T16:06:50.456455Z",
     "iopub.status.busy": "2023-05-22T16:06:50.456083Z",
     "iopub.status.idle": "2023-05-22T16:06:50.466687Z",
     "shell.execute_reply": "2023-05-22T16:06:50.465589Z"
    },
    "papermill": {
     "duration": 0.021611,
     "end_time": "2023-05-22T16:06:50.469010",
     "exception": false,
     "start_time": "2023-05-22T16:06:50.447399",
     "status": "completed"
    },
    "tags": []
   },
   "outputs": [
    {
     "name": "stdout",
     "output_type": "stream",
     "text": [
      "29652.931506849316\n"
     ]
    },
    {
     "data": {
      "application/javascript": [
       "parent.postMessage({\"jupyterEvent\": \"custom.exercise_interaction\", \"data\": {\"outcomeType\": 1, \"valueTowardsCompletion\": 0.25, \"interactionType\": 1, \"questionType\": 1, \"questionId\": \"4_MAE\", \"learnToolsVersion\": \"0.3.4\", \"failureMessage\": \"\", \"exceptionClass\": \"\", \"trace\": \"\"}}, \"*\")"
      ],
      "text/plain": [
       "<IPython.core.display.Javascript object>"
      ]
     },
     "metadata": {},
     "output_type": "display_data"
    },
    {
     "data": {
      "text/markdown": [
       "<span style=\"color:#33cc33\">Correct</span>"
      ],
      "text/plain": [
       "Correct"
      ]
     },
     "metadata": {},
     "output_type": "display_data"
    }
   ],
   "source": [
    "from sklearn.metrics import mean_absolute_error\n",
    "val_mae = mean_absolute_error(val_y, val_predictions)\n",
    "\n",
    "# uncomment following line to see the validation_mae\n",
    "print(val_mae)\n",
    "\n",
    "# Check your answer\n",
    "step_4.check()"
   ]
  },
  {
   "cell_type": "code",
   "execution_count": 10,
   "id": "9a1f39fa",
   "metadata": {
    "execution": {
     "iopub.execute_input": "2023-05-22T16:06:50.487366Z",
     "iopub.status.busy": "2023-05-22T16:06:50.486438Z",
     "iopub.status.idle": "2023-05-22T16:06:50.491876Z",
     "shell.execute_reply": "2023-05-22T16:06:50.490309Z"
    },
    "papermill": {
     "duration": 0.017754,
     "end_time": "2023-05-22T16:06:50.494379",
     "exception": false,
     "start_time": "2023-05-22T16:06:50.476625",
     "status": "completed"
    },
    "tags": []
   },
   "outputs": [],
   "source": [
    "# step_4.hint()\n",
    "# step_4.solution()"
   ]
  },
  {
   "cell_type": "markdown",
   "id": "66e47c6a",
   "metadata": {
    "papermill": {
     "duration": 0.007606,
     "end_time": "2023-05-22T16:06:50.510047",
     "exception": false,
     "start_time": "2023-05-22T16:06:50.502441",
     "status": "completed"
    },
    "tags": []
   },
   "source": [
    "Is that MAE good?  There isn't a general rule for what values are good that applies across applications. But you'll see how to use (and improve) this number in the next step.\n",
    "\n",
    "# Keep Going\n",
    "\n",
    "You are ready for **[Underfitting and Overfitting](https://www.kaggle.com/dansbecker/underfitting-and-overfitting).**\n"
   ]
  },
  {
   "cell_type": "markdown",
   "id": "363a3637",
   "metadata": {
    "papermill": {
     "duration": 0.00746,
     "end_time": "2023-05-22T16:06:50.525387",
     "exception": false,
     "start_time": "2023-05-22T16:06:50.517927",
     "status": "completed"
    },
    "tags": []
   },
   "source": [
    "---\n",
    "\n",
    "\n",
    "\n",
    "\n",
    "*Have questions or comments? Visit the [course discussion forum](https://www.kaggle.com/learn/intro-to-machine-learning/discussion) to chat with other learners.*"
   ]
  }
 ],
 "metadata": {
  "kernelspec": {
   "display_name": "Python 3",
   "language": "python",
   "name": "python3"
  },
  "language_info": {
   "codemirror_mode": {
    "name": "ipython",
    "version": 3
   },
   "file_extension": ".py",
   "mimetype": "text/x-python",
   "name": "python",
   "nbconvert_exporter": "python",
   "pygments_lexer": "ipython3",
   "version": "3.10.10"
  },
  "papermill": {
   "default_parameters": {},
   "duration": 18.812694,
   "end_time": "2023-05-22T16:06:54.080661",
   "environment_variables": {},
   "exception": null,
   "input_path": "__notebook__.ipynb",
   "output_path": "__notebook__.ipynb",
   "parameters": {},
   "start_time": "2023-05-22T16:06:35.267967",
   "version": "2.4.0"
  }
 },
 "nbformat": 4,
 "nbformat_minor": 5
}
