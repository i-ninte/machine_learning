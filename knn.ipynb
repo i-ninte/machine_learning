{
  "nbformat": 4,
  "nbformat_minor": 0,
  "metadata": {
    "colab": {
      "provenance": [],
      "authorship_tag": "ABX9TyMtEMG2wX+rxUHlEpAr3tgR",
      "include_colab_link": true
    },
    "kernelspec": {
      "name": "python3",
      "display_name": "Python 3"
    },
    "language_info": {
      "name": "python"
    }
  },
  "cells": [
    {
      "cell_type": "markdown",
      "metadata": {
        "id": "view-in-github",
        "colab_type": "text"
      },
      "source": [
        "<a href=\"https://colab.research.google.com/github/i-ninte/machine_learning/blob/main/knn.ipynb\" target=\"_parent\"><img src=\"https://colab.research.google.com/assets/colab-badge.svg\" alt=\"Open In Colab\"/></a>"
      ]
    },
    {
      "cell_type": "code",
      "execution_count": 1,
      "metadata": {
        "colab": {
          "base_uri": "https://localhost:8080/"
        },
        "id": "x6gom4tNRhH1",
        "outputId": "bda91feb-f6bb-482b-d867-255c5d4c0fdf"
      },
      "outputs": [
        {
          "output_type": "stream",
          "name": "stdout",
          "text": [
            "Collecting sklearn\n",
            "  Downloading sklearn-0.0.post9.tar.gz (3.6 kB)\n",
            "  Preparing metadata (setup.py) ... \u001b[?25l\u001b[?25hdone\n",
            "Building wheels for collected packages: sklearn\n",
            "  Building wheel for sklearn (setup.py) ... \u001b[?25l\u001b[?25hdone\n",
            "  Created wheel for sklearn: filename=sklearn-0.0.post9-py3-none-any.whl size=2952 sha256=b927e48e4c06b7bdc719732c688a112fd5988d171f36a9c221725d5e57da3a04\n",
            "  Stored in directory: /root/.cache/pip/wheels/33/a3/d2/092b519e9522b4c91608b7dcec0dd9051fa1bff4c45f4502d1\n",
            "Successfully built sklearn\n",
            "Installing collected packages: sklearn\n",
            "Successfully installed sklearn-0.0.post9\n"
          ]
        }
      ],
      "source": [
        "pip install sklearn"
      ]
    },
    {
      "cell_type": "code",
      "source": [
        "import pandas as pd\n",
        "import numpy as np\n",
        "from sklearn import neighbors, metrics\n",
        "from sklearn.model_selection import train_test_split\n",
        "from sklearn.preprocessing import LabelEncoder\n",
        "\n",
        "\n",
        "data = pd.read_csv(\"car.data\")\n",
        "print(data.head())"
      ],
      "metadata": {
        "colab": {
          "base_uri": "https://localhost:8080/"
        },
        "id": "Y7h1i8duRtpi",
        "outputId": "79c15b2e-d897-4d99-9b00-a76f61fc7782"
      },
      "execution_count": 10,
      "outputs": [
        {
          "output_type": "stream",
          "name": "stdout",
          "text": [
            "  buying  maint doors persons lug_boot safety  class\n",
            "0  vhigh  vhigh     2       2    small    low  unacc\n",
            "1  vhigh  vhigh     2       2    small    med  unacc\n",
            "2  vhigh  vhigh     2       2    small   high  unacc\n",
            "3  vhigh  vhigh     2       2      med    low  unacc\n",
            "4  vhigh  vhigh     2       2      med    med  unacc\n"
          ]
        }
      ]
    },
    {
      "cell_type": "code",
      "source": [
        "data.shape"
      ],
      "metadata": {
        "colab": {
          "base_uri": "https://localhost:8080/"
        },
        "id": "8OYJ55KGU1as",
        "outputId": "11424c88-a912-4135-e377-b5e571ba9213"
      },
      "execution_count": 11,
      "outputs": [
        {
          "output_type": "execute_result",
          "data": {
            "text/plain": [
              "(1728, 7)"
            ]
          },
          "metadata": {},
          "execution_count": 11
        }
      ]
    },
    {
      "cell_type": "markdown",
      "source": [
        "column names are buying, maint,(maintenace), doors, persons, lug_boot, safety, class"
      ],
      "metadata": {
        "id": "NwdszMpOU_ID"
      }
    },
    {
      "cell_type": "code",
      "source": [
        "# creating labels and features\n",
        "#features\n",
        "X= data[['buying','maint','safety' ]].values\n",
        "\n",
        "# labels\n",
        "y=data[['class']]\n",
        "\n",
        "print(X,y)"
      ],
      "metadata": {
        "colab": {
          "base_uri": "https://localhost:8080/"
        },
        "id": "qiubVZdqYgJz",
        "outputId": "4dfe75da-754d-40a3-d60c-6d221cbd17c4"
      },
      "execution_count": 13,
      "outputs": [
        {
          "output_type": "stream",
          "name": "stdout",
          "text": [
            "[['vhigh' 'vhigh' 'low']\n",
            " ['vhigh' 'vhigh' 'med']\n",
            " ['vhigh' 'vhigh' 'high']\n",
            " ...\n",
            " ['low' 'low' 'low']\n",
            " ['low' 'low' 'med']\n",
            " ['low' 'low' 'high']]       class\n",
            "0     unacc\n",
            "1     unacc\n",
            "2     unacc\n",
            "3     unacc\n",
            "4     unacc\n",
            "...     ...\n",
            "1723   good\n",
            "1724  vgood\n",
            "1725  unacc\n",
            "1726   good\n",
            "1727  vgood\n",
            "\n",
            "[1728 rows x 1 columns]\n"
          ]
        }
      ]
    },
    {
      "cell_type": "markdown",
      "source": [
        "But for the machine learning model to be able to work, it has to work with numbers and not strings hence we would have to convet the strings to numbers"
      ],
      "metadata": {
        "id": "M-T_KqYZbgRG"
      }
    },
    {
      "cell_type": "code",
      "source": [
        "#converting features(X)\n",
        "Le= LabelEncoder()\n",
        "for i  in range(len(X[0])):\n",
        "  X[:,i] = Le.fit_transform(X[:,i])\n",
        "\n",
        "print(X)"
      ],
      "metadata": {
        "colab": {
          "base_uri": "https://localhost:8080/"
        },
        "id": "Nw3Mq75jbuKm",
        "outputId": "0d2bf7f1-9b54-477c-b798-4b3751ca4b3f"
      },
      "execution_count": 14,
      "outputs": [
        {
          "output_type": "stream",
          "name": "stdout",
          "text": [
            "[[3 3 1]\n",
            " [3 3 2]\n",
            " [3 3 0]\n",
            " ...\n",
            " [1 1 1]\n",
            " [1 1 2]\n",
            " [1 1 0]]\n"
          ]
        }
      ]
    },
    {
      "cell_type": "markdown",
      "source": [
        "converting the labels(y) using mapping"
      ],
      "metadata": {
        "id": "DmdgJ2nsctIf"
      }
    },
    {
      "cell_type": "code",
      "source": [
        "label_mapping= {\n",
        "    'unacc': 0,\n",
        "    'acc':1,\n",
        "    'good':2,\n",
        "    'vgood':3\n",
        "\n",
        "}\n",
        "\n",
        "y['class']= y['class'].map(label_mapping)\n",
        "# converting y to a numpy array\n",
        "y= np.array(y)\n",
        "print(y)"
      ],
      "metadata": {
        "colab": {
          "base_uri": "https://localhost:8080/"
        },
        "id": "5UArf2sbc3OZ",
        "outputId": "46b2162c-2628-49aa-fab0-871ef1090477"
      },
      "execution_count": 15,
      "outputs": [
        {
          "output_type": "stream",
          "name": "stdout",
          "text": [
            "[[0]\n",
            " [0]\n",
            " [0]\n",
            " ...\n",
            " [0]\n",
            " [2]\n",
            " [3]]\n"
          ]
        },
        {
          "output_type": "stream",
          "name": "stderr",
          "text": [
            "<ipython-input-15-83db58bf1a9a>:9: SettingWithCopyWarning: \n",
            "A value is trying to be set on a copy of a slice from a DataFrame.\n",
            "Try using .loc[row_indexer,col_indexer] = value instead\n",
            "\n",
            "See the caveats in the documentation: https://pandas.pydata.org/pandas-docs/stable/user_guide/indexing.html#returning-a-view-versus-a-copy\n",
            "  y['class']= y['class'].map(label_mapping)\n"
          ]
        }
      ]
    },
    {
      "cell_type": "code",
      "source": [
        "#creating model\n",
        "knn= neighbors.KNeighborsClassifier(n_neighbors=25, weights='uniform')\n",
        "\n",
        "#separating the model into training and testingn data\n",
        "X_train, X_test,y_train,y_test = train_test_split(X,y,test_size= 0.2)\n",
        "\n",
        "#training the model(fitiing )\n",
        "\n",
        "knn.fit(X_train, y_train)\n",
        "\n",
        "# making predictions\n",
        "prediction = knn.predict(X_test)\n",
        "\n",
        "# checking the performance of the knn model\n",
        "accuracy = metrics.accuracy_score(y_test, prediction)\n",
        "\n",
        "print(\"predictions\", prediction)\n",
        "print(\"accuracy\", accuracy)"
      ],
      "metadata": {
        "colab": {
          "base_uri": "https://localhost:8080/"
        },
        "id": "Ml16mbhjhCWy",
        "outputId": "62fe70cc-7dcc-4bb9-93c7-8e6ed19b9dc6"
      },
      "execution_count": 17,
      "outputs": [
        {
          "output_type": "stream",
          "name": "stdout",
          "text": [
            "predictions [0 0 0 0 0 2 0 1 0 0 0 1 0 0 0 0 0 0 0 1 0 0 1 0 0 1 0 0 0 0 0 3 0 0 0 0 0\n",
            " 0 0 1 0 1 1 0 0 0 0 0 1 1 0 0 0 0 0 1 0 0 0 2 0 0 0 0 2 0 0 0 1 0 0 3 0 0\n",
            " 0 1 0 0 0 0 0 0 0 0 0 0 0 0 0 0 0 0 0 0 3 1 0 0 0 0 0 1 0 3 0 0 0 0 0 3 1\n",
            " 1 0 0 0 0 0 0 1 0 0 1 0 0 1 0 1 0 2 0 0 1 0 0 2 1 1 0 0 1 0 0 1 0 0 1 0 1\n",
            " 0 0 0 0 0 0 1 0 1 0 0 2 0 0 0 1 0 0 0 3 0 1 0 0 1 0 0 0 1 0 0 0 0 1 1 0 0\n",
            " 0 0 0 1 3 0 1 0 1 0 0 3 0 0 0 0 1 0 0 0 0 0 0 0 0 0 0 1 1 0 0 0 0 1 0 0 0\n",
            " 3 0 0 1 0 0 0 0 0 0 3 0 0 3 0 0 0 1 0 0 0 0 0 0 1 0 0 3 0 0 0 2 1 1 0 0 1\n",
            " 0 0 0 0 0 0 1 0 0 0 1 0 0 0 3 0 0 0 0 1 0 2 0 0 2 0 0 0 0 0 1 1 0 1 1 0 0\n",
            " 1 0 0 0 0 1 1 3 0 0 0 0 1 0 0 0 1 0 0 0 1 0 0 0 0 1 0 0 0 0 0 0 0 3 1 0 0\n",
            " 0 0 1 1 0 0 1 0 1 0 0 0 1]\n",
            "accuracy 0.7398843930635838\n"
          ]
        },
        {
          "output_type": "stream",
          "name": "stderr",
          "text": [
            "/usr/local/lib/python3.10/dist-packages/sklearn/neighbors/_classification.py:215: DataConversionWarning: A column-vector y was passed when a 1d array was expected. Please change the shape of y to (n_samples,), for example using ravel().\n",
            "  return self._fit(X, y)\n"
          ]
        }
      ]
    },
    {
      "cell_type": "code",
      "source": [
        "# Testing the model\n",
        "print(\"Actual value:\", y[20])  # Accessing actual value by index\n",
        "print(\"Predicted value:\", knn.predict(X)[20])  # Accessing predicted value by index\n"
      ],
      "metadata": {
        "colab": {
          "base_uri": "https://localhost:8080/"
        },
        "id": "dgRr1XLhhaV1",
        "outputId": "c9f125cb-7a80-478c-f82c-eea665d05922"
      },
      "execution_count": 19,
      "outputs": [
        {
          "output_type": "stream",
          "name": "stdout",
          "text": [
            "Actual value: [0]\n",
            "Predicted value: 0\n"
          ]
        }
      ]
    }
  ]
}