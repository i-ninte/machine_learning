{
 "cells": [
  {
   "cell_type": "markdown",
   "id": "a12d6981",
   "metadata": {
    "papermill": {
     "duration": 0.007393,
     "end_time": "2023-05-22T14:03:01.638806",
     "exception": false,
     "start_time": "2023-05-22T14:03:01.631413",
     "status": "completed"
    },
    "tags": []
   },
   "source": [
    "**This notebook is an exercise in the [Introduction to Machine Learning](https://www.kaggle.com/learn/intro-to-machine-learning) course.  You can reference the tutorial at [this link](https://www.kaggle.com/dansbecker/your-first-machine-learning-model).**\n",
    "\n",
    "---\n"
   ]
  },
  {
   "cell_type": "markdown",
   "id": "3997e060",
   "metadata": {
    "papermill": {
     "duration": 0.006322,
     "end_time": "2023-05-22T14:03:01.652344",
     "exception": false,
     "start_time": "2023-05-22T14:03:01.646022",
     "status": "completed"
    },
    "tags": []
   },
   "source": [
    "## Recap\n",
    "So far, you have loaded your data and reviewed it with the following code. Run this cell to set up your coding environment where the previous step left off."
   ]
  },
  {
   "cell_type": "code",
   "execution_count": 1,
   "id": "7483f05e",
   "metadata": {
    "execution": {
     "iopub.execute_input": "2023-05-22T14:03:01.668078Z",
     "iopub.status.busy": "2023-05-22T14:03:01.667612Z",
     "iopub.status.idle": "2023-05-22T14:03:03.484624Z",
     "shell.execute_reply": "2023-05-22T14:03:03.482868Z"
    },
    "papermill": {
     "duration": 1.828892,
     "end_time": "2023-05-22T14:03:03.487875",
     "exception": false,
     "start_time": "2023-05-22T14:03:01.658983",
     "status": "completed"
    },
    "tags": []
   },
   "outputs": [
    {
     "name": "stderr",
     "output_type": "stream",
     "text": [
      "/opt/conda/lib/python3.10/site-packages/scipy/__init__.py:146: UserWarning: A NumPy version >=1.16.5 and <1.23.0 is required for this version of SciPy (detected version 1.23.5\n",
      "  warnings.warn(f\"A NumPy version >={np_minversion} and <{np_maxversion}\"\n"
     ]
    },
    {
     "name": "stdout",
     "output_type": "stream",
     "text": [
      "Setup Complete\n"
     ]
    }
   ],
   "source": [
    "# Code you have previously used to load data\n",
    "import pandas as pd\n",
    "\n",
    "# Path of the file to read\n",
    "iowa_file_path = '../input/home-data-for-ml-course/train.csv'\n",
    "\n",
    "home_data = pd.read_csv(iowa_file_path)\n",
    "\n",
    "# Set up code checking\n",
    "from learntools.core import binder\n",
    "binder.bind(globals())\n",
    "from learntools.machine_learning.ex3 import *\n",
    "\n",
    "print(\"Setup Complete\")"
   ]
  },
  {
   "cell_type": "markdown",
   "id": "b1d8c50a",
   "metadata": {
    "papermill": {
     "duration": 0.006676,
     "end_time": "2023-05-22T14:03:03.501697",
     "exception": false,
     "start_time": "2023-05-22T14:03:03.495021",
     "status": "completed"
    },
    "tags": []
   },
   "source": [
    "# Exercises\n",
    "\n",
    "## Step 1: Specify Prediction Target\n",
    "Select the target variable, which corresponds to the sales price. Save this to a new variable called `y`. You'll need to print a list of the columns to find the name of the column you need.\n"
   ]
  },
  {
   "cell_type": "code",
   "execution_count": 2,
   "id": "7f77141d",
   "metadata": {
    "execution": {
     "iopub.execute_input": "2023-05-22T14:03:03.518150Z",
     "iopub.status.busy": "2023-05-22T14:03:03.517729Z",
     "iopub.status.idle": "2023-05-22T14:03:03.527151Z",
     "shell.execute_reply": "2023-05-22T14:03:03.525587Z"
    },
    "papermill": {
     "duration": 0.020778,
     "end_time": "2023-05-22T14:03:03.529668",
     "exception": false,
     "start_time": "2023-05-22T14:03:03.508890",
     "status": "completed"
    },
    "tags": []
   },
   "outputs": [
    {
     "data": {
      "text/plain": [
       "Index(['Id', 'MSSubClass', 'MSZoning', 'LotFrontage', 'LotArea', 'Street',\n",
       "       'Alley', 'LotShape', 'LandContour', 'Utilities', 'LotConfig',\n",
       "       'LandSlope', 'Neighborhood', 'Condition1', 'Condition2', 'BldgType',\n",
       "       'HouseStyle', 'OverallQual', 'OverallCond', 'YearBuilt', 'YearRemodAdd',\n",
       "       'RoofStyle', 'RoofMatl', 'Exterior1st', 'Exterior2nd', 'MasVnrType',\n",
       "       'MasVnrArea', 'ExterQual', 'ExterCond', 'Foundation', 'BsmtQual',\n",
       "       'BsmtCond', 'BsmtExposure', 'BsmtFinType1', 'BsmtFinSF1',\n",
       "       'BsmtFinType2', 'BsmtFinSF2', 'BsmtUnfSF', 'TotalBsmtSF', 'Heating',\n",
       "       'HeatingQC', 'CentralAir', 'Electrical', '1stFlrSF', '2ndFlrSF',\n",
       "       'LowQualFinSF', 'GrLivArea', 'BsmtFullBath', 'BsmtHalfBath', 'FullBath',\n",
       "       'HalfBath', 'BedroomAbvGr', 'KitchenAbvGr', 'KitchenQual',\n",
       "       'TotRmsAbvGrd', 'Functional', 'Fireplaces', 'FireplaceQu', 'GarageType',\n",
       "       'GarageYrBlt', 'GarageFinish', 'GarageCars', 'GarageArea', 'GarageQual',\n",
       "       'GarageCond', 'PavedDrive', 'WoodDeckSF', 'OpenPorchSF',\n",
       "       'EnclosedPorch', '3SsnPorch', 'ScreenPorch', 'PoolArea', 'PoolQC',\n",
       "       'Fence', 'MiscFeature', 'MiscVal', 'MoSold', 'YrSold', 'SaleType',\n",
       "       'SaleCondition', 'SalePrice'],\n",
       "      dtype='object')"
      ]
     },
     "execution_count": 2,
     "metadata": {},
     "output_type": "execute_result"
    }
   ],
   "source": [
    "# print the list of columns in the dataset to find the name of the prediction target\n",
    "home_data.columns\n"
   ]
  },
  {
   "cell_type": "code",
   "execution_count": 3,
   "id": "d1338f73",
   "metadata": {
    "execution": {
     "iopub.execute_input": "2023-05-22T14:03:03.546452Z",
     "iopub.status.busy": "2023-05-22T14:03:03.545698Z",
     "iopub.status.idle": "2023-05-22T14:03:03.562331Z",
     "shell.execute_reply": "2023-05-22T14:03:03.560886Z"
    },
    "papermill": {
     "duration": 0.028548,
     "end_time": "2023-05-22T14:03:03.565415",
     "exception": false,
     "start_time": "2023-05-22T14:03:03.536867",
     "status": "completed"
    },
    "tags": []
   },
   "outputs": [
    {
     "data": {
      "application/javascript": [
       "parent.postMessage({\"jupyterEvent\": \"custom.exercise_interaction\", \"data\": {\"outcomeType\": 1, \"valueTowardsCompletion\": 0.25, \"interactionType\": 1, \"questionType\": 2, \"questionId\": \"1_SetTarget\", \"learnToolsVersion\": \"0.3.4\", \"failureMessage\": \"\", \"exceptionClass\": \"\", \"trace\": \"\"}}, \"*\")"
      ],
      "text/plain": [
       "<IPython.core.display.Javascript object>"
      ]
     },
     "metadata": {},
     "output_type": "display_data"
    },
    {
     "data": {
      "text/markdown": [
       "<span style=\"color:#33cc33\">Correct</span>"
      ],
      "text/plain": [
       "Correct"
      ]
     },
     "metadata": {},
     "output_type": "display_data"
    }
   ],
   "source": [
    "y = home_data.SalePrice\n",
    "\n",
    "# Check your answer\n",
    "step_1.check()"
   ]
  },
  {
   "cell_type": "code",
   "execution_count": 4,
   "id": "117b4615",
   "metadata": {
    "collapsed": true,
    "execution": {
     "iopub.execute_input": "2023-05-22T14:03:03.582942Z",
     "iopub.status.busy": "2023-05-22T14:03:03.582052Z",
     "iopub.status.idle": "2023-05-22T14:03:03.587142Z",
     "shell.execute_reply": "2023-05-22T14:03:03.586258Z"
    },
    "jupyter": {
     "outputs_hidden": true
    },
    "papermill": {
     "duration": 0.016534,
     "end_time": "2023-05-22T14:03:03.589605",
     "exception": false,
     "start_time": "2023-05-22T14:03:03.573071",
     "status": "completed"
    },
    "tags": []
   },
   "outputs": [],
   "source": [
    "# The lines below will show you a hint or the solution.\n",
    "# step_1.hint() \n",
    "# step_1.solution()"
   ]
  },
  {
   "cell_type": "markdown",
   "id": "6af2a6cd",
   "metadata": {
    "papermill": {
     "duration": 0.007061,
     "end_time": "2023-05-22T14:03:03.604254",
     "exception": false,
     "start_time": "2023-05-22T14:03:03.597193",
     "status": "completed"
    },
    "tags": []
   },
   "source": [
    "## Step 2: Create X\n",
    "Now you will create a DataFrame called `X` holding the predictive features.\n",
    "\n",
    "Since you want only some columns from the original data, you'll first create a list with the names of the columns you want in `X`.\n",
    "\n",
    "You'll use just the following columns in the list (you can copy and paste the whole list to save some typing, though you'll still need to add quotes):\n",
    "  * LotArea\n",
    "  * YearBuilt\n",
    "  * 1stFlrSF\n",
    "  * 2ndFlrSF\n",
    "  * FullBath\n",
    "  * BedroomAbvGr\n",
    "  * TotRmsAbvGrd\n",
    "\n",
    "After you've created that list of features, use it to create the DataFrame that you'll use to fit the model."
   ]
  },
  {
   "cell_type": "code",
   "execution_count": 5,
   "id": "0bef6f52",
   "metadata": {
    "execution": {
     "iopub.execute_input": "2023-05-22T14:03:03.621589Z",
     "iopub.status.busy": "2023-05-22T14:03:03.620715Z",
     "iopub.status.idle": "2023-05-22T14:03:03.639169Z",
     "shell.execute_reply": "2023-05-22T14:03:03.637843Z"
    },
    "papermill": {
     "duration": 0.030046,
     "end_time": "2023-05-22T14:03:03.641781",
     "exception": false,
     "start_time": "2023-05-22T14:03:03.611735",
     "status": "completed"
    },
    "tags": []
   },
   "outputs": [
    {
     "data": {
      "application/javascript": [
       "parent.postMessage({\"jupyterEvent\": \"custom.exercise_interaction\", \"data\": {\"outcomeType\": 1, \"valueTowardsCompletion\": 0.25, \"interactionType\": 1, \"questionType\": 2, \"questionId\": \"2_SelectPredictionData\", \"learnToolsVersion\": \"0.3.4\", \"failureMessage\": \"\", \"exceptionClass\": \"\", \"trace\": \"\"}}, \"*\")"
      ],
      "text/plain": [
       "<IPython.core.display.Javascript object>"
      ]
     },
     "metadata": {},
     "output_type": "display_data"
    },
    {
     "data": {
      "text/markdown": [
       "<span style=\"color:#33cc33\">Correct</span>"
      ],
      "text/plain": [
       "Correct"
      ]
     },
     "metadata": {},
     "output_type": "display_data"
    }
   ],
   "source": [
    "# Create the list of features below\n",
    "feature_names = ['LotArea','YearBuilt','1stFlrSF','2ndFlrSF','FullBath','BedroomAbvGr','TotRmsAbvGrd']\n",
    "\n",
    "# Select data corresponding to features in feature_names\n",
    "X = home_data[feature_names]\n",
    "\n",
    "# Check your answer\n",
    "step_2.check()"
   ]
  },
  {
   "cell_type": "code",
   "execution_count": 6,
   "id": "3ce35b27",
   "metadata": {
    "collapsed": true,
    "execution": {
     "iopub.execute_input": "2023-05-22T14:03:03.659080Z",
     "iopub.status.busy": "2023-05-22T14:03:03.658673Z",
     "iopub.status.idle": "2023-05-22T14:03:03.663685Z",
     "shell.execute_reply": "2023-05-22T14:03:03.662266Z"
    },
    "jupyter": {
     "outputs_hidden": true
    },
    "papermill": {
     "duration": 0.01697,
     "end_time": "2023-05-22T14:03:03.666409",
     "exception": false,
     "start_time": "2023-05-22T14:03:03.649439",
     "status": "completed"
    },
    "tags": []
   },
   "outputs": [],
   "source": [
    "# step_2.hint()\n",
    "# step_2.solution()"
   ]
  },
  {
   "cell_type": "markdown",
   "id": "5754473c",
   "metadata": {
    "papermill": {
     "duration": 0.007494,
     "end_time": "2023-05-22T14:03:03.681846",
     "exception": false,
     "start_time": "2023-05-22T14:03:03.674352",
     "status": "completed"
    },
    "tags": []
   },
   "source": [
    "## Review Data\n",
    "Before building a model, take a quick look at **X** to verify it looks sensible"
   ]
  },
  {
   "cell_type": "code",
   "execution_count": 7,
   "id": "8ad9157d",
   "metadata": {
    "execution": {
     "iopub.execute_input": "2023-05-22T14:03:03.699326Z",
     "iopub.status.busy": "2023-05-22T14:03:03.698898Z",
     "iopub.status.idle": "2023-05-22T14:03:03.747620Z",
     "shell.execute_reply": "2023-05-22T14:03:03.746174Z"
    },
    "papermill": {
     "duration": 0.060901,
     "end_time": "2023-05-22T14:03:03.750566",
     "exception": false,
     "start_time": "2023-05-22T14:03:03.689665",
     "status": "completed"
    },
    "tags": []
   },
   "outputs": [
    {
     "data": {
      "text/html": [
       "<div>\n",
       "<style scoped>\n",
       "    .dataframe tbody tr th:only-of-type {\n",
       "        vertical-align: middle;\n",
       "    }\n",
       "\n",
       "    .dataframe tbody tr th {\n",
       "        vertical-align: top;\n",
       "    }\n",
       "\n",
       "    .dataframe thead th {\n",
       "        text-align: right;\n",
       "    }\n",
       "</style>\n",
       "<table border=\"1\" class=\"dataframe\">\n",
       "  <thead>\n",
       "    <tr style=\"text-align: right;\">\n",
       "      <th></th>\n",
       "      <th>LotArea</th>\n",
       "      <th>YearBuilt</th>\n",
       "      <th>1stFlrSF</th>\n",
       "      <th>2ndFlrSF</th>\n",
       "      <th>FullBath</th>\n",
       "      <th>BedroomAbvGr</th>\n",
       "      <th>TotRmsAbvGrd</th>\n",
       "    </tr>\n",
       "  </thead>\n",
       "  <tbody>\n",
       "    <tr>\n",
       "      <th>0</th>\n",
       "      <td>8450</td>\n",
       "      <td>2003</td>\n",
       "      <td>856</td>\n",
       "      <td>854</td>\n",
       "      <td>2</td>\n",
       "      <td>3</td>\n",
       "      <td>8</td>\n",
       "    </tr>\n",
       "    <tr>\n",
       "      <th>1</th>\n",
       "      <td>9600</td>\n",
       "      <td>1976</td>\n",
       "      <td>1262</td>\n",
       "      <td>0</td>\n",
       "      <td>2</td>\n",
       "      <td>3</td>\n",
       "      <td>6</td>\n",
       "    </tr>\n",
       "    <tr>\n",
       "      <th>2</th>\n",
       "      <td>11250</td>\n",
       "      <td>2001</td>\n",
       "      <td>920</td>\n",
       "      <td>866</td>\n",
       "      <td>2</td>\n",
       "      <td>3</td>\n",
       "      <td>6</td>\n",
       "    </tr>\n",
       "    <tr>\n",
       "      <th>3</th>\n",
       "      <td>9550</td>\n",
       "      <td>1915</td>\n",
       "      <td>961</td>\n",
       "      <td>756</td>\n",
       "      <td>1</td>\n",
       "      <td>3</td>\n",
       "      <td>7</td>\n",
       "    </tr>\n",
       "    <tr>\n",
       "      <th>4</th>\n",
       "      <td>14260</td>\n",
       "      <td>2000</td>\n",
       "      <td>1145</td>\n",
       "      <td>1053</td>\n",
       "      <td>2</td>\n",
       "      <td>4</td>\n",
       "      <td>9</td>\n",
       "    </tr>\n",
       "  </tbody>\n",
       "</table>\n",
       "</div>"
      ],
      "text/plain": [
       "   LotArea  YearBuilt  1stFlrSF  2ndFlrSF  FullBath  BedroomAbvGr  \\\n",
       "0     8450       2003       856       854         2             3   \n",
       "1     9600       1976      1262         0         2             3   \n",
       "2    11250       2001       920       866         2             3   \n",
       "3     9550       1915       961       756         1             3   \n",
       "4    14260       2000      1145      1053         2             4   \n",
       "\n",
       "   TotRmsAbvGrd  \n",
       "0             8  \n",
       "1             6  \n",
       "2             6  \n",
       "3             7  \n",
       "4             9  "
      ]
     },
     "execution_count": 7,
     "metadata": {},
     "output_type": "execute_result"
    }
   ],
   "source": [
    "# Review data\n",
    "# print description or statistics from X\n",
    "X.describe()\n",
    "#print(_)\n",
    "import pandas as pd \n",
    "# print the top few lines\n",
    "X.head()\n",
    "#print(_)"
   ]
  },
  {
   "cell_type": "markdown",
   "id": "98ba05ab",
   "metadata": {
    "papermill": {
     "duration": 0.007801,
     "end_time": "2023-05-22T14:03:03.766835",
     "exception": false,
     "start_time": "2023-05-22T14:03:03.759034",
     "status": "completed"
    },
    "tags": []
   },
   "source": [
    "## Step 3: Specify and Fit Model\n",
    "Create a `DecisionTreeRegressor` and save it iowa_model. Ensure you've done the relevant import from sklearn to run this command.\n",
    "\n",
    "Then fit the model you just created using the data in `X` and `y` that you saved above."
   ]
  },
  {
   "cell_type": "code",
   "execution_count": 8,
   "id": "836cceab",
   "metadata": {
    "execution": {
     "iopub.execute_input": "2023-05-22T14:03:03.785340Z",
     "iopub.status.busy": "2023-05-22T14:03:03.784964Z",
     "iopub.status.idle": "2023-05-22T14:03:03.808273Z",
     "shell.execute_reply": "2023-05-22T14:03:03.807018Z"
    },
    "papermill": {
     "duration": 0.035586,
     "end_time": "2023-05-22T14:03:03.810888",
     "exception": false,
     "start_time": "2023-05-22T14:03:03.775302",
     "status": "completed"
    },
    "tags": []
   },
   "outputs": [
    {
     "data": {
      "application/javascript": [
       "parent.postMessage({\"jupyterEvent\": \"custom.exercise_interaction\", \"data\": {\"outcomeType\": 1, \"valueTowardsCompletion\": 0.25, \"interactionType\": 1, \"questionType\": 2, \"questionId\": \"3_CreateModel\", \"learnToolsVersion\": \"0.3.4\", \"failureMessage\": \"\", \"exceptionClass\": \"\", \"trace\": \"\"}}, \"*\")"
      ],
      "text/plain": [
       "<IPython.core.display.Javascript object>"
      ]
     },
     "metadata": {},
     "output_type": "display_data"
    },
    {
     "data": {
      "text/markdown": [
       "<span style=\"color:#33cc33\">Correct</span>"
      ],
      "text/plain": [
       "Correct"
      ]
     },
     "metadata": {},
     "output_type": "display_data"
    }
   ],
   "source": [
    "# from _ import _\n",
    "from sklearn.tree import DecisionTreeRegressor\n",
    "#specify the model. \n",
    "#For model reproducibility, set a numeric value for random_state when specifying the model\n",
    "iowa_model = DecisionTreeRegressor(random_state=1)\n",
    "\n",
    "# Fit the model\n",
    "iowa_model.fit(X,y)\n",
    "\n",
    "# Check your answer\n",
    "step_3.check()"
   ]
  },
  {
   "cell_type": "code",
   "execution_count": 9,
   "id": "b4e1caa4",
   "metadata": {
    "collapsed": true,
    "execution": {
     "iopub.execute_input": "2023-05-22T14:03:03.830200Z",
     "iopub.status.busy": "2023-05-22T14:03:03.829714Z",
     "iopub.status.idle": "2023-05-22T14:03:03.834301Z",
     "shell.execute_reply": "2023-05-22T14:03:03.833457Z"
    },
    "jupyter": {
     "outputs_hidden": true
    },
    "papermill": {
     "duration": 0.017177,
     "end_time": "2023-05-22T14:03:03.836597",
     "exception": false,
     "start_time": "2023-05-22T14:03:03.819420",
     "status": "completed"
    },
    "tags": []
   },
   "outputs": [],
   "source": [
    "# step_3.hint()\n",
    "# step_3.solution()"
   ]
  },
  {
   "cell_type": "markdown",
   "id": "9d0870d5",
   "metadata": {
    "papermill": {
     "duration": 0.008148,
     "end_time": "2023-05-22T14:03:03.853253",
     "exception": false,
     "start_time": "2023-05-22T14:03:03.845105",
     "status": "completed"
    },
    "tags": []
   },
   "source": [
    "## Step 4: Make Predictions\n",
    "Make predictions with the model's `predict` command using `X` as the data. Save the results to a variable called `predictions`."
   ]
  },
  {
   "cell_type": "code",
   "execution_count": 10,
   "id": "532803d3",
   "metadata": {
    "execution": {
     "iopub.execute_input": "2023-05-22T14:03:03.872280Z",
     "iopub.status.busy": "2023-05-22T14:03:03.871805Z",
     "iopub.status.idle": "2023-05-22T14:03:03.888362Z",
     "shell.execute_reply": "2023-05-22T14:03:03.887226Z"
    },
    "papermill": {
     "duration": 0.029926,
     "end_time": "2023-05-22T14:03:03.891570",
     "exception": false,
     "start_time": "2023-05-22T14:03:03.861644",
     "status": "completed"
    },
    "tags": []
   },
   "outputs": [
    {
     "name": "stdout",
     "output_type": "stream",
     "text": [
      "[208500. 181500. 223500. ... 266500. 142125. 147500.]\n"
     ]
    },
    {
     "data": {
      "application/javascript": [
       "parent.postMessage({\"jupyterEvent\": \"custom.exercise_interaction\", \"data\": {\"outcomeType\": 1, \"valueTowardsCompletion\": 0.25, \"interactionType\": 1, \"questionType\": 2, \"questionId\": \"4_MakePredictions\", \"learnToolsVersion\": \"0.3.4\", \"failureMessage\": \"\", \"exceptionClass\": \"\", \"trace\": \"\"}}, \"*\")"
      ],
      "text/plain": [
       "<IPython.core.display.Javascript object>"
      ]
     },
     "metadata": {},
     "output_type": "display_data"
    },
    {
     "data": {
      "text/markdown": [
       "<span style=\"color:#33cc33\">Correct</span>"
      ],
      "text/plain": [
       "Correct"
      ]
     },
     "metadata": {},
     "output_type": "display_data"
    }
   ],
   "source": [
    "predictions = iowa_model.predict(X)\n",
    "print(predictions)\n",
    "\n",
    "# Check your answer\n",
    "step_4.check()"
   ]
  },
  {
   "cell_type": "code",
   "execution_count": 11,
   "id": "ced36fd9",
   "metadata": {
    "collapsed": true,
    "execution": {
     "iopub.execute_input": "2023-05-22T14:03:03.911779Z",
     "iopub.status.busy": "2023-05-22T14:03:03.911378Z",
     "iopub.status.idle": "2023-05-22T14:03:03.916085Z",
     "shell.execute_reply": "2023-05-22T14:03:03.914888Z"
    },
    "jupyter": {
     "outputs_hidden": true
    },
    "papermill": {
     "duration": 0.017587,
     "end_time": "2023-05-22T14:03:03.918447",
     "exception": false,
     "start_time": "2023-05-22T14:03:03.900860",
     "status": "completed"
    },
    "tags": []
   },
   "outputs": [],
   "source": [
    "# step_4.hint()\n",
    "# step_4.solution()"
   ]
  },
  {
   "cell_type": "markdown",
   "id": "b71d1ada",
   "metadata": {
    "papermill": {
     "duration": 0.008636,
     "end_time": "2023-05-22T14:03:03.936036",
     "exception": false,
     "start_time": "2023-05-22T14:03:03.927400",
     "status": "completed"
    },
    "tags": []
   },
   "source": [
    "## Think About Your Results\n",
    "\n",
    "Use the `head` method to compare the top few predictions to the actual home values (in `y`) for those same homes. Anything surprising?\n"
   ]
  },
  {
   "cell_type": "code",
   "execution_count": 12,
   "id": "a3bad615",
   "metadata": {
    "execution": {
     "iopub.execute_input": "2023-05-22T14:03:03.955863Z",
     "iopub.status.busy": "2023-05-22T14:03:03.955487Z",
     "iopub.status.idle": "2023-05-22T14:03:03.964737Z",
     "shell.execute_reply": "2023-05-22T14:03:03.962998Z"
    },
    "papermill": {
     "duration": 0.022602,
     "end_time": "2023-05-22T14:03:03.967548",
     "exception": false,
     "start_time": "2023-05-22T14:03:03.944946",
     "status": "completed"
    },
    "tags": []
   },
   "outputs": [
    {
     "data": {
      "text/plain": [
       "0    208500\n",
       "1    181500\n",
       "2    223500\n",
       "3    140000\n",
       "4    250000\n",
       "Name: SalePrice, dtype: int64"
      ]
     },
     "execution_count": 12,
     "metadata": {},
     "output_type": "execute_result"
    }
   ],
   "source": [
    "# You can write code in this cell\n",
    "y.head()"
   ]
  },
  {
   "cell_type": "markdown",
   "id": "9ebb183c",
   "metadata": {
    "papermill": {
     "duration": 0.008796,
     "end_time": "2023-05-22T14:03:03.985585",
     "exception": false,
     "start_time": "2023-05-22T14:03:03.976789",
     "status": "completed"
    },
    "tags": []
   },
   "source": [
    "It's natural to ask how accurate the model's predictions will be and how you can improve that. That will be you're next step.\n",
    "\n",
    "# Keep Going\n",
    "\n",
    "You are ready for **[Model Validation](https://www.kaggle.com/dansbecker/model-validation).**\n"
   ]
  },
  {
   "cell_type": "markdown",
   "id": "5a4815d9",
   "metadata": {
    "papermill": {
     "duration": 0.009336,
     "end_time": "2023-05-22T14:03:04.003950",
     "exception": false,
     "start_time": "2023-05-22T14:03:03.994614",
     "status": "completed"
    },
    "tags": []
   },
   "source": [
    "---\n",
    "\n",
    "\n",
    "\n",
    "\n",
    "*Have questions or comments? Visit the [course discussion forum](https://www.kaggle.com/learn/intro-to-machine-learning/discussion) to chat with other learners.*"
   ]
  }
 ],
 "metadata": {
  "kernelspec": {
   "display_name": "Python 3",
   "language": "python",
   "name": "python3"
  },
  "language_info": {
   "codemirror_mode": {
    "name": "ipython",
    "version": 3
   },
   "file_extension": ".py",
   "mimetype": "text/x-python",
   "name": "python",
   "nbconvert_exporter": "python",
   "pygments_lexer": "ipython3",
   "version": "3.10.10"
  },
  "papermill": {
   "default_parameters": {},
   "duration": 17.170914,
   "end_time": "2023-05-22T14:03:05.340016",
   "environment_variables": {},
   "exception": null,
   "input_path": "__notebook__.ipynb",
   "output_path": "__notebook__.ipynb",
   "parameters": {},
   "start_time": "2023-05-22T14:02:48.169102",
   "version": "2.4.0"
  }
 },
 "nbformat": 4,
 "nbformat_minor": 5
}
