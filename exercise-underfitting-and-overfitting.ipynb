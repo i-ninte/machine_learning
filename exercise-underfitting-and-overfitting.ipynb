{
 "cells": [
  {
   "cell_type": "markdown",
   "id": "32618a02",
   "metadata": {
    "papermill": {
     "duration": 0.005302,
     "end_time": "2023-05-23T12:48:44.676847",
     "exception": false,
     "start_time": "2023-05-23T12:48:44.671545",
     "status": "completed"
    },
    "tags": []
   },
   "source": [
    "**This notebook is an exercise in the [Introduction to Machine Learning](https://www.kaggle.com/learn/intro-to-machine-learning) course.  You can reference the tutorial at [this link](https://www.kaggle.com/dansbecker/underfitting-and-overfitting).**\n",
    "\n",
    "---\n"
   ]
  },
  {
   "cell_type": "markdown",
   "id": "6c15ae32",
   "metadata": {
    "papermill": {
     "duration": 0.004525,
     "end_time": "2023-05-23T12:48:44.686479",
     "exception": false,
     "start_time": "2023-05-23T12:48:44.681954",
     "status": "completed"
    },
    "tags": []
   },
   "source": [
    "## Recap\n",
    "You've built your first model, and now it's time to optimize the size of the tree to make better predictions. Run this cell to set up your coding environment where the previous step left off."
   ]
  },
  {
   "cell_type": "code",
   "execution_count": 1,
   "id": "79ada8fc",
   "metadata": {
    "execution": {
     "iopub.execute_input": "2023-05-23T12:48:44.697545Z",
     "iopub.status.busy": "2023-05-23T12:48:44.697130Z",
     "iopub.status.idle": "2023-05-23T12:48:46.627841Z",
     "shell.execute_reply": "2023-05-23T12:48:46.626409Z"
    },
    "papermill": {
     "duration": 1.939552,
     "end_time": "2023-05-23T12:48:46.630543",
     "exception": false,
     "start_time": "2023-05-23T12:48:44.690991",
     "status": "completed"
    },
    "tags": []
   },
   "outputs": [
    {
     "name": "stderr",
     "output_type": "stream",
     "text": [
      "/opt/conda/lib/python3.10/site-packages/scipy/__init__.py:146: UserWarning: A NumPy version >=1.16.5 and <1.23.0 is required for this version of SciPy (detected version 1.23.5\n",
      "  warnings.warn(f\"A NumPy version >={np_minversion} and <{np_maxversion}\"\n"
     ]
    },
    {
     "name": "stdout",
     "output_type": "stream",
     "text": [
      "Validation MAE: 29,653\n",
      "\n",
      "Setup complete\n"
     ]
    }
   ],
   "source": [
    "# Code you have previously used to load data\n",
    "import pandas as pd\n",
    "from sklearn.metrics import mean_absolute_error\n",
    "from sklearn.model_selection import train_test_split\n",
    "from sklearn.tree import DecisionTreeRegressor\n",
    "\n",
    "\n",
    "# Path of the file to read\n",
    "iowa_file_path = '../input/home-data-for-ml-course/train.csv'\n",
    "\n",
    "home_data = pd.read_csv(iowa_file_path)\n",
    "# Create target object and call it y\n",
    "y = home_data.SalePrice\n",
    "# Create X\n",
    "features = ['LotArea', 'YearBuilt', '1stFlrSF', '2ndFlrSF', 'FullBath', 'BedroomAbvGr', 'TotRmsAbvGrd']\n",
    "X = home_data[features]\n",
    "\n",
    "# Split into validation and training data\n",
    "train_X, val_X, train_y, val_y = train_test_split(X, y, random_state=1)\n",
    "\n",
    "# Specify Model\n",
    "iowa_model = DecisionTreeRegressor(random_state=1)\n",
    "# Fit Model\n",
    "iowa_model.fit(train_X, train_y)\n",
    "\n",
    "# Make validation predictions and calculate mean absolute error\n",
    "val_predictions = iowa_model.predict(val_X)\n",
    "val_mae = mean_absolute_error(val_predictions, val_y)\n",
    "print(\"Validation MAE: {:,.0f}\".format(val_mae))\n",
    "\n",
    "# Set up code checking\n",
    "from learntools.core import binder\n",
    "binder.bind(globals())\n",
    "from learntools.machine_learning.ex5 import *\n",
    "print(\"\\nSetup complete\")"
   ]
  },
  {
   "cell_type": "markdown",
   "id": "b0e0c753",
   "metadata": {
    "papermill": {
     "duration": 0.004615,
     "end_time": "2023-05-23T12:48:46.640148",
     "exception": false,
     "start_time": "2023-05-23T12:48:46.635533",
     "status": "completed"
    },
    "tags": []
   },
   "source": [
    "# Exercises\n",
    "You could write the function `get_mae` yourself. For now, we'll supply it. This is the same function you read about in the previous lesson. Just run the cell below."
   ]
  },
  {
   "cell_type": "code",
   "execution_count": 2,
   "id": "5a5cc187",
   "metadata": {
    "execution": {
     "iopub.execute_input": "2023-05-23T12:48:46.652163Z",
     "iopub.status.busy": "2023-05-23T12:48:46.651715Z",
     "iopub.status.idle": "2023-05-23T12:48:46.658109Z",
     "shell.execute_reply": "2023-05-23T12:48:46.656893Z"
    },
    "papermill": {
     "duration": 0.01575,
     "end_time": "2023-05-23T12:48:46.660925",
     "exception": false,
     "start_time": "2023-05-23T12:48:46.645175",
     "status": "completed"
    },
    "tags": []
   },
   "outputs": [],
   "source": [
    "def get_mae(max_leaf_nodes, train_X, val_X, train_y, val_y):\n",
    "    model = DecisionTreeRegressor(max_leaf_nodes=max_leaf_nodes, random_state=0)\n",
    "    model.fit(train_X, train_y)\n",
    "    preds_val = model.predict(val_X)\n",
    "    mae = mean_absolute_error(val_y, preds_val)\n",
    "    return(mae)\n",
    "\n"
   ]
  },
  {
   "cell_type": "markdown",
   "id": "7b1d9de7",
   "metadata": {
    "papermill": {
     "duration": 0.00439,
     "end_time": "2023-05-23T12:48:46.670037",
     "exception": false,
     "start_time": "2023-05-23T12:48:46.665647",
     "status": "completed"
    },
    "tags": []
   },
   "source": [
    "## Step 1: Compare Different Tree Sizes\n",
    "Write a loop that tries the following values for *max_leaf_nodes* from a set of possible values.\n",
    "\n",
    "Call the *get_mae* function on each value of max_leaf_nodes. Store the output in some way that allows you to select the value of `max_leaf_nodes` that gives the most accurate model on your data."
   ]
  },
  {
   "cell_type": "code",
   "execution_count": 3,
   "id": "0909ee5a",
   "metadata": {
    "execution": {
     "iopub.execute_input": "2023-05-23T12:48:46.681779Z",
     "iopub.status.busy": "2023-05-23T12:48:46.680997Z",
     "iopub.status.idle": "2023-05-23T12:48:46.737694Z",
     "shell.execute_reply": "2023-05-23T12:48:46.736525Z"
    },
    "papermill": {
     "duration": 0.065291,
     "end_time": "2023-05-23T12:48:46.740103",
     "exception": false,
     "start_time": "2023-05-23T12:48:46.674812",
     "status": "completed"
    },
    "tags": []
   },
   "outputs": [
    {
     "name": "stdout",
     "output_type": "stream",
     "text": [
      "100\n"
     ]
    },
    {
     "data": {
      "application/javascript": [
       "parent.postMessage({\"jupyterEvent\": \"custom.exercise_interaction\", \"data\": {\"outcomeType\": 1, \"valueTowardsCompletion\": 0.5, \"interactionType\": 1, \"questionType\": 1, \"questionId\": \"1_BestTreeSize\", \"learnToolsVersion\": \"0.3.4\", \"failureMessage\": \"\", \"exceptionClass\": \"\", \"trace\": \"\"}}, \"*\")"
      ],
      "text/plain": [
       "<IPython.core.display.Javascript object>"
      ]
     },
     "metadata": {},
     "output_type": "display_data"
    },
    {
     "data": {
      "text/markdown": [
       "<span style=\"color:#33cc33\">Correct</span>"
      ],
      "text/plain": [
       "Correct"
      ]
     },
     "metadata": {},
     "output_type": "display_data"
    }
   ],
   "source": [
    "def get_mae(max_leaf_nodes, train_X, val_X, train_y, val_y):\n",
    "    model = DecisionTreeRegressor(max_leaf_nodes=max_leaf_nodes, random_state=0)\n",
    "    model.fit(train_X, train_y)\n",
    "    preds_val = model.predict(val_X)\n",
    "    mae = mean_absolute_error(val_y, preds_val)\n",
    "    return(mae)\n",
    "\n",
    "\n",
    "candidate_max_leaf_nodes = [5, 25, 50, 100, 250, 500]\n",
    "# Write loop to find the ideal tree size from candidate_max_leaf_nodes\n",
    "scores = {leaf_size: get_mae(leaf_size, train_X, val_X, train_y, val_y) for leaf_size in candidate_max_leaf_nodes}\n",
    "\n",
    "\n",
    "\n",
    "# Store the best value of max_leaf_nodes (it will be either 5, 25, 50, 100, 250 or 500)\n",
    "best_tree_size = min(scores, key=scores.get)\n",
    "print(best_tree_size)\n",
    "# Check your answer\n",
    "step_1.check()"
   ]
  },
  {
   "cell_type": "code",
   "execution_count": 4,
   "id": "573b4cae",
   "metadata": {
    "execution": {
     "iopub.execute_input": "2023-05-23T12:48:46.751916Z",
     "iopub.status.busy": "2023-05-23T12:48:46.751520Z",
     "iopub.status.idle": "2023-05-23T12:48:46.756301Z",
     "shell.execute_reply": "2023-05-23T12:48:46.755239Z"
    },
    "papermill": {
     "duration": 0.013536,
     "end_time": "2023-05-23T12:48:46.758687",
     "exception": false,
     "start_time": "2023-05-23T12:48:46.745151",
     "status": "completed"
    },
    "tags": []
   },
   "outputs": [],
   "source": [
    "# The lines below will show you a hint or the solution.\n",
    "#step_1.hint() \n",
    "#step_1.solution()"
   ]
  },
  {
   "cell_type": "markdown",
   "id": "bb3adb1d",
   "metadata": {
    "papermill": {
     "duration": 0.004933,
     "end_time": "2023-05-23T12:48:46.768900",
     "exception": false,
     "start_time": "2023-05-23T12:48:46.763967",
     "status": "completed"
    },
    "tags": []
   },
   "source": [
    "## Step 2: Fit Model Using All Data\n",
    "You know the best tree size. If you were going to deploy this model in practice, you would make it even more accurate by using all of the data and keeping that tree size.  That is, you don't need to hold out the validation data now that you've made all your modeling decisions."
   ]
  },
  {
   "cell_type": "code",
   "execution_count": 5,
   "id": "42396777",
   "metadata": {
    "execution": {
     "iopub.execute_input": "2023-05-23T12:48:46.780767Z",
     "iopub.status.busy": "2023-05-23T12:48:46.780384Z",
     "iopub.status.idle": "2023-05-23T12:48:46.798329Z",
     "shell.execute_reply": "2023-05-23T12:48:46.796878Z"
    },
    "papermill": {
     "duration": 0.026651,
     "end_time": "2023-05-23T12:48:46.800652",
     "exception": false,
     "start_time": "2023-05-23T12:48:46.774001",
     "status": "completed"
    },
    "tags": []
   },
   "outputs": [
    {
     "data": {
      "application/javascript": [
       "parent.postMessage({\"jupyterEvent\": \"custom.exercise_interaction\", \"data\": {\"outcomeType\": 1, \"valueTowardsCompletion\": 0.5, \"interactionType\": 1, \"questionType\": 2, \"questionId\": \"2_FitModelWithAllData\", \"learnToolsVersion\": \"0.3.4\", \"failureMessage\": \"\", \"exceptionClass\": \"\", \"trace\": \"\"}}, \"*\")"
      ],
      "text/plain": [
       "<IPython.core.display.Javascript object>"
      ]
     },
     "metadata": {},
     "output_type": "display_data"
    },
    {
     "data": {
      "text/markdown": [
       "<span style=\"color:#33cc33\">Correct</span>"
      ],
      "text/plain": [
       "Correct"
      ]
     },
     "metadata": {},
     "output_type": "display_data"
    }
   ],
   "source": [
    "# Fill in argument to make optimal size and uncomment\n",
    "final_model = DecisionTreeRegressor(max_leaf_nodes=best_tree_size, random_state=1)\n",
    "\n",
    "# fit the final model and uncomment the next two lines\n",
    "final_model.fit(X,y )\n",
    "\n",
    "# Check your answer\n",
    "step_2.check()"
   ]
  },
  {
   "cell_type": "code",
   "execution_count": 6,
   "id": "d9c49ce0",
   "metadata": {
    "execution": {
     "iopub.execute_input": "2023-05-23T12:48:46.814240Z",
     "iopub.status.busy": "2023-05-23T12:48:46.813833Z",
     "iopub.status.idle": "2023-05-23T12:48:46.818834Z",
     "shell.execute_reply": "2023-05-23T12:48:46.817388Z"
    },
    "papermill": {
     "duration": 0.015058,
     "end_time": "2023-05-23T12:48:46.821522",
     "exception": false,
     "start_time": "2023-05-23T12:48:46.806464",
     "status": "completed"
    },
    "tags": []
   },
   "outputs": [],
   "source": [
    " #step_2.hint()\n",
    " #step_2.solution()"
   ]
  },
  {
   "cell_type": "markdown",
   "id": "ec4882e2",
   "metadata": {
    "papermill": {
     "duration": 0.005185,
     "end_time": "2023-05-23T12:48:46.832376",
     "exception": false,
     "start_time": "2023-05-23T12:48:46.827191",
     "status": "completed"
    },
    "tags": []
   },
   "source": [
    "You've tuned this model and improved your results. But we are still using Decision Tree models, which are not very sophisticated by modern machine learning standards. In the next step you will learn to use Random Forests to improve your models even more.\n",
    "\n",
    "# Keep Going\n",
    "\n",
    "You are ready for **[Random Forests](https://www.kaggle.com/dansbecker/random-forests).**\n"
   ]
  },
  {
   "cell_type": "markdown",
   "id": "2961e9aa",
   "metadata": {
    "papermill": {
     "duration": 0.005575,
     "end_time": "2023-05-23T12:48:46.843430",
     "exception": false,
     "start_time": "2023-05-23T12:48:46.837855",
     "status": "completed"
    },
    "tags": []
   },
   "source": [
    "---\n",
    "\n",
    "\n",
    "\n",
    "\n",
    "*Have questions or comments? Visit the [course discussion forum](https://www.kaggle.com/learn/intro-to-machine-learning/discussion) to chat with other learners.*"
   ]
  }
 ],
 "metadata": {
  "kernelspec": {
   "display_name": "Python 3",
   "language": "python",
   "name": "python3"
  },
  "language_info": {
   "codemirror_mode": {
    "name": "ipython",
    "version": 3
   },
   "file_extension": ".py",
   "mimetype": "text/x-python",
   "name": "python",
   "nbconvert_exporter": "python",
   "pygments_lexer": "ipython3",
   "version": "3.10.10"
  },
  "papermill": {
   "default_parameters": {},
   "duration": 16.408062,
   "end_time": "2023-05-23T12:48:47.872626",
   "environment_variables": {},
   "exception": null,
   "input_path": "__notebook__.ipynb",
   "output_path": "__notebook__.ipynb",
   "parameters": {},
   "start_time": "2023-05-23T12:48:31.464564",
   "version": "2.4.0"
  }
 },
 "nbformat": 4,
 "nbformat_minor": 5
}
